{
 "cells": [
  {
   "cell_type": "markdown",
   "metadata": {},
   "source": [
    "- press `Crlt + return` to excute a cell\n",
    "\n",
    "- press `shift + return` to excute a cell and create a new cell\n",
    "\n",
    "# import modules"
   ]
  },
  {
   "cell_type": "code",
   "execution_count": 1,
   "metadata": {},
   "outputs": [
    {
     "data": {
      "text/plain": [
       "array([0, 1, 2, 3, 4])"
      ]
     },
     "execution_count": 1,
     "metadata": {},
     "output_type": "execute_result"
    }
   ],
   "source": [
    "import numpy\n",
    "\n",
    "a = numpy.arange(0,5)\n",
    "a"
   ]
  },
  {
   "cell_type": "markdown",
   "metadata": {},
   "source": [
    "ok, I only want to import a specific object(function)"
   ]
  },
  {
   "cell_type": "code",
   "execution_count": 2,
   "metadata": {},
   "outputs": [
    {
     "data": {
      "text/plain": [
       "array([0, 1, 2, 3, 4])"
      ]
     },
     "execution_count": 2,
     "metadata": {},
     "output_type": "execute_result"
    }
   ],
   "source": [
    "from numpy import arange\n",
    "\n",
    "a = arange(0,5)\n",
    "a"
   ]
  },
  {
   "cell_type": "markdown",
   "metadata": {},
   "source": [
    "ok, I need all functions, and I don't want to type numpy"
   ]
  },
  {
   "cell_type": "code",
   "execution_count": 3,
   "metadata": {},
   "outputs": [
    {
     "data": {
      "text/plain": [
       "array([0, 1, 2, 3, 4])"
      ]
     },
     "execution_count": 3,
     "metadata": {},
     "output_type": "execute_result"
    }
   ],
   "source": [
    "from numpy import *\n",
    "\n",
    "a = arange(0,5)\n",
    "a"
   ]
  },
  {
   "cell_type": "markdown",
   "metadata": {},
   "source": [
    "and this is very dangerous because in defferent modules we might have same function names, but we still don't want to type the full module name since in some case the module name may be like this: **ThisIsAVeryLongModuleName**. then we can do it this way"
   ]
  },
  {
   "cell_type": "code",
   "execution_count": 4,
   "metadata": {},
   "outputs": [
    {
     "data": {
      "text/plain": [
       "array([0, 1, 2, 3, 4])"
      ]
     },
     "execution_count": 4,
     "metadata": {},
     "output_type": "execute_result"
    }
   ],
   "source": [
    "import numpy as np\n",
    "\n",
    "a = np.arange(0,5)\n",
    "a"
   ]
  },
  {
   "cell_type": "markdown",
   "metadata": {},
   "source": [
    "# asking for help"
   ]
  },
  {
   "cell_type": "markdown",
   "metadata": {},
   "source": [
    "to search a function you want, the best way is asking documentation for help, or you can"
   ]
  },
  {
   "cell_type": "code",
   "execution_count": null,
   "metadata": {},
   "outputs": [],
   "source": [
    "# press tab\n",
    "np."
   ]
  },
  {
   "cell_type": "code",
   "execution_count": null,
   "metadata": {},
   "outputs": [],
   "source": [
    "# press tab\n",
    "np.arange"
   ]
  },
  {
   "cell_type": "code",
   "execution_count": 6,
   "metadata": {
    "collapsed": true
   },
   "outputs": [
    {
     "name": "stdout",
     "output_type": "stream",
     "text": [
      "Search results for 'create array'\n",
      "---------------------------------\n",
      "numpy.array\n",
      "    Create an array.\n",
      "numpy.memmap\n",
      "    Create a memory-map to an array stored in a *binary* file on disk.\n",
      "numpy.diagflat\n",
      "    Create a two-dimensional array with the flattened input as a diagonal.\n",
      "numpy.fromiter\n",
      "    Create a new 1-dimensional array from an iterable object.\n",
      "numpy.partition\n",
      "    Return a partitioned copy of an array.\n",
      "numpy.ctypeslib.as_array\n",
      "    Create a numpy array from a ctypes array or a ctypes POINTER.\n",
      "numpy.ma.diagflat\n",
      "    Create a two-dimensional array with the flattened input as a diagonal.\n",
      "numpy.ma.make_mask\n",
      "    Create a boolean mask from an array.\n",
      "numpy.ctypeslib.as_ctypes\n",
      "    Create and return a ctypes object from a numpy array.  Actually\n",
      "numpy.ma.mrecords.fromarrays\n",
      "    Creates a mrecarray from a (flat) list of masked arrays.\n",
      "numpy.ma.mvoid.__new__\n",
      "    Create a new masked array from scratch.\n",
      "numpy.lib.format.open_memmap\n",
      "    Open a .npy file as a memory-mapped array.\n",
      "numpy.ma.MaskedArray.__new__\n",
      "    Create a new masked array from scratch.\n",
      "numpy.lib.arrayterator.Arrayterator\n",
      "    Buffered iterator for big arrays.\n",
      "numpy.ma.mrecords.fromtextfile\n",
      "    Creates a mrecarray from data stored in the file `filename`.\n",
      "numpy.asarray\n",
      "    Convert the input to an array.\n",
      "numpy.ndarray\n",
      "    ndarray(shape, dtype=float, buffer=None, offset=0,\n",
      "numpy.recarray\n",
      "    Construct an ndarray that allows field access using attributes.\n",
      "numpy.chararray\n",
      "    chararray(shape, itemsize=1, unicode=False, buffer=None, offset=0,\n",
      "numpy.pad\n",
      "    Pads an array.\n",
      "numpy.asanyarray\n",
      "    Convert the input to an ndarray, but pass ndarray subclasses through.\n",
      "numpy.copy\n",
      "    Return an array copy of the given object.\n",
      "numpy.diag\n",
      "    Extract a diagonal or construct a diagonal array.\n",
      "numpy.load\n",
      "    Load arrays or pickled objects from ``.npy``, ``.npz`` or pickled files.\n",
      "numpy.sort\n",
      "    Return a sorted copy of an array.\n",
      "numpy.array_equiv\n",
      "    Returns True if input arrays are shape consistent and all elements equal.\n",
      "numpy.dtype\n",
      "    Create a data type object.\n",
      "numpy.choose\n",
      "    Construct an array from an index array and a set of arrays to choose from.\n",
      "numpy.nditer\n",
      "    Efficient multi-dimensional iterator object to iterate over arrays.\n",
      "numpy.swapaxes\n",
      "    Interchange two axes of an array.\n",
      "numpy.full_like\n",
      "    Return a full array with the same shape and type as a given array.\n",
      "numpy.ones_like\n",
      "    Return an array of ones with the same shape and type as a given array.\n",
      "numpy.empty_like\n",
      "    Return a new array with the same shape and type as a given array.\n",
      "numpy.zeros_like\n",
      "    Return an array of zeros with the same shape and type as a given array.\n",
      "numpy.asarray_chkfinite\n",
      "    Convert the input to an array, checking for NaNs or Infs.\n",
      "numpy.diag_indices\n",
      "    Return the indices to access the main diagonal of an array.\n",
      "numpy.chararray.tolist\n",
      "    a.tolist()\n",
      "numpy.ma.mrecords.MaskedRecords.__new__\n",
      "    Create a new masked array from scratch.\n",
      "numpy.ma.choose\n",
      "    Use an index array to construct a new array from a set of choices.\n",
      "numpy.savez_compressed\n",
      "    Save several arrays into a single file in compressed ``.npz`` format.\n",
      "numpy.matlib.rand\n",
      "    Return a matrix of random values with given shape.\n",
      "numpy.datetime_as_string\n",
      "    Convert an array of datetimes into an array of strings.\n",
      "numpy.ma.empty_like\n",
      "    Return a new array with the same shape and type as a given array.\n",
      "numpy.ma.make_mask_none\n",
      "    Return a boolean mask of the given shape, filled with False.\n",
      "numpy.ma.tests.test_subclassing.MMatrix.__new__\n",
      "    Create a new masked array from scratch.\n",
      "numpy.ma.tests.test_subclassing.MSubArray.__new__\n",
      "    Create a new masked array from scratch.\n",
      "numpy.ma.mrecords.fromrecords\n",
      "    Creates a MaskedRecords from a list of records.\n",
      "numpy.ma.tests.test_subclassing.SubMaskedArray.__new__\n",
      "    Create a new masked array from scratch.\n",
      "numpy.f2py.tests.test_array_from_pyobj.Array.has_shared_memory\n",
      "    Check that created array shares data with input array.\n",
      "numpy.around\n",
      "    Evenly round to the given number of decimals.\n",
      "numpy.source\n",
      "    Print or write to a file the source code for a NumPy object.\n",
      "numpy.diagonal\n",
      "    Return specified diagonals.\n",
      "numpy.nan_to_num\n",
      "    Replace nan with zero and inf with large finite numbers.\n",
      "numpy.einsum_path\n",
      "    Evaluates the lowest cost contraction order for an einsum expression by\n",
      "numpy.histogram2d\n",
      "    Compute the bi-dimensional histogram of two data samples.\n",
      "numpy.fft.ifft\n",
      "    Compute the one-dimensional inverse discrete Fourier Transform.\n",
      "numpy.fft.ifftn\n",
      "    Compute the N-dimensional inverse discrete Fourier Transform.\n",
      "numpy.busdaycalendar\n",
      "    A business day calendar object that efficiently stores information\n",
      "numpy.ma.tests.test_subclassing.SubArray\n",
      "    ndarray(shape, dtype=float, buffer=None, offset=0,\n",
      "numpy.core.tests.test_function_base.PhysicalQuantity2\n",
      "    ndarray(shape, dtype=float, buffer=None, offset=0,\n",
      "numpy.lib.tests.test_stride_tricks.SimpleSubClass\n",
      "    ndarray(shape, dtype=float, buffer=None, offset=0,\n",
      "numpy.ma.tests.test_subclassing.ComplicatedSubArray\n",
      "    ndarray(shape, dtype=float, buffer=None, offset=0,\n",
      "numpy.lib.tests.test_stride_tricks.VerySimpleSubClass\n",
      "    ndarray(shape, dtype=float, buffer=None, offset=0,\n",
      "numpy.core.tests.test_numeric.TestKeepdims.sub_array\n",
      "    ndarray(shape, dtype=float, buffer=None, offset=0,\n",
      "numpy.core.tests.test_multiarray.TestArrayPriority.Bar\n",
      "    ndarray(shape, dtype=float, buffer=None, offset=0,\n",
      "numpy.core.tests.test_multiarray.TestArrayPriority.Foo\n",
      "    ndarray(shape, dtype=float, buffer=None, offset=0,\n",
      "numpy.testing._gen_alignment_data\n",
      "    generator producing data with different alignment and offsets"
     ]
    }
   ],
   "source": [
    "# only for numpy\n",
    "np.lookfor(\"create array\")"
   ]
  },
  {
   "cell_type": "markdown",
   "metadata": {},
   "source": [
    "if you want the usage of some functions, the best way is also to ask documentation for help, but for people as lazy as me, the default way is `help()`"
   ]
  },
  {
   "cell_type": "code",
   "execution_count": 7,
   "metadata": {
    "collapsed": true
   },
   "outputs": [
    {
     "name": "stdout",
     "output_type": "stream",
     "text": [
      "Help on built-in function arange in module numpy.core.multiarray:\n",
      "\n",
      "arange(...)\n",
      "    arange([start,] stop[, step,], dtype=None)\n",
      "    \n",
      "    Return evenly spaced values within a given interval.\n",
      "    \n",
      "    Values are generated within the half-open interval ``[start, stop)``\n",
      "    (in other words, the interval including `start` but excluding `stop`).\n",
      "    For integer arguments the function is equivalent to the Python built-in\n",
      "    `range <http://docs.python.org/lib/built-in-funcs.html>`_ function,\n",
      "    but returns an ndarray rather than a list.\n",
      "    \n",
      "    When using a non-integer step, such as 0.1, the results will often not\n",
      "    be consistent.  It is better to use ``linspace`` for these cases.\n",
      "    \n",
      "    Parameters\n",
      "    ----------\n",
      "    start : number, optional\n",
      "        Start of interval.  The interval includes this value.  The default\n",
      "        start value is 0.\n",
      "    stop : number\n",
      "        End of interval.  The interval does not include this value, except\n",
      "        in some cases where `step` is not an integer and floating point\n",
      "        round-off affects the length of `out`.\n",
      "    step : number, optional\n",
      "        Spacing between values.  For any output `out`, this is the distance\n",
      "        between two adjacent values, ``out[i+1] - out[i]``.  The default\n",
      "        step size is 1.  If `step` is specified as a position argument,\n",
      "        `start` must also be given.\n",
      "    dtype : dtype\n",
      "        The type of the output array.  If `dtype` is not given, infer the data\n",
      "        type from the other input arguments.\n",
      "    \n",
      "    Returns\n",
      "    -------\n",
      "    arange : ndarray\n",
      "        Array of evenly spaced values.\n",
      "    \n",
      "        For floating point arguments, the length of the result is\n",
      "        ``ceil((stop - start)/step)``.  Because of floating point overflow,\n",
      "        this rule may result in the last element of `out` being greater\n",
      "        than `stop`.\n",
      "    \n",
      "    See Also\n",
      "    --------\n",
      "    linspace : Evenly spaced numbers with careful handling of endpoints.\n",
      "    ogrid: Arrays of evenly spaced numbers in N-dimensions.\n",
      "    mgrid: Grid-shaped arrays of evenly spaced numbers in N-dimensions.\n",
      "    \n",
      "    Examples\n",
      "    --------\n",
      "    >>> np.arange(3)\n",
      "    array([0, 1, 2])\n",
      "    >>> np.arange(3.0)\n",
      "    array([ 0.,  1.,  2.])\n",
      "    >>> np.arange(3,7)\n",
      "    array([3, 4, 5, 6])\n",
      "    >>> np.arange(3,7,2)\n",
      "    array([3, 5])\n",
      "\n"
     ]
    }
   ],
   "source": [
    "help(np.arange)"
   ]
  },
  {
   "cell_type": "markdown",
   "metadata": {},
   "source": [
    "but in the notebook you can do this"
   ]
  },
  {
   "cell_type": "code",
   "execution_count": 9,
   "metadata": {},
   "outputs": [],
   "source": [
    "np.arange?"
   ]
  },
  {
   "cell_type": "code",
   "execution_count": null,
   "metadata": {},
   "outputs": [],
   "source": [
    "# press shift+tab\n",
    "np.arange()"
   ]
  },
  {
   "cell_type": "markdown",
   "metadata": {},
   "source": [
    "# with *numpy* you can ..."
   ]
  },
  {
   "cell_type": "code",
   "execution_count": 10,
   "metadata": {},
   "outputs": [],
   "source": [
    "import numpy as np"
   ]
  },
  {
   "cell_type": "markdown",
   "metadata": {},
   "source": [
    "## vectorized operation"
   ]
  },
  {
   "cell_type": "code",
   "execution_count": 11,
   "metadata": {},
   "outputs": [],
   "source": [
    "v1 = np.array([1,2,3,4,5])\n",
    "v2 = np.array([1,1,1,1,1])"
   ]
  },
  {
   "cell_type": "markdown",
   "metadata": {},
   "source": [
    "vectorized product"
   ]
  },
  {
   "cell_type": "code",
   "execution_count": 12,
   "metadata": {},
   "outputs": [
    {
     "data": {
      "text/plain": [
       "array([1, 2, 3, 4, 5])"
      ]
     },
     "execution_count": 12,
     "metadata": {},
     "output_type": "execute_result"
    }
   ],
   "source": [
    "v1*v2"
   ]
  },
  {
   "cell_type": "markdown",
   "metadata": {},
   "source": [
    "## vector algebra\n",
    "dot product"
   ]
  },
  {
   "cell_type": "code",
   "execution_count": 13,
   "metadata": {},
   "outputs": [
    {
     "data": {
      "text/plain": [
       "15"
      ]
     },
     "execution_count": 13,
     "metadata": {},
     "output_type": "execute_result"
    }
   ],
   "source": [
    "# functional way\n",
    "np.dot(v1, v2)"
   ]
  },
  {
   "cell_type": "code",
   "execution_count": 14,
   "metadata": {},
   "outputs": [
    {
     "data": {
      "text/plain": [
       "15"
      ]
     },
     "execution_count": 14,
     "metadata": {},
     "output_type": "execute_result"
    }
   ],
   "source": [
    "# object oriented way\n",
    "v1.dot(v2)"
   ]
  },
  {
   "cell_type": "markdown",
   "metadata": {},
   "source": [
    "## simple statistics"
   ]
  },
  {
   "cell_type": "code",
   "execution_count": 15,
   "metadata": {},
   "outputs": [
    {
     "data": {
      "text/plain": [
       "array([1, 1, 1, 1, 1])"
      ]
     },
     "execution_count": 15,
     "metadata": {},
     "output_type": "execute_result"
    }
   ],
   "source": [
    "v2"
   ]
  },
  {
   "cell_type": "code",
   "execution_count": 16,
   "metadata": {},
   "outputs": [
    {
     "data": {
      "text/plain": [
       "(1, 1.0, 1, 0.0)"
      ]
     },
     "execution_count": 16,
     "metadata": {},
     "output_type": "execute_result"
    }
   ],
   "source": [
    "v2.max(), v2.mean(), v2.min(), v2.std()"
   ]
  },
  {
   "cell_type": "markdown",
   "metadata": {},
   "source": [
    "## else\n",
    "\n",
    "[https://docs.scipy.org/doc/numpy-dev/reference/index.html#reference](https://docs.scipy.org/doc/numpy-dev/reference/index.html#reference)"
   ]
  },
  {
   "cell_type": "markdown",
   "metadata": {},
   "source": [
    "# with *matplotlib* you can ..."
   ]
  },
  {
   "cell_type": "code",
   "execution_count": 17,
   "metadata": {},
   "outputs": [],
   "source": [
    "import matplotlib.pyplot as plt\n",
    "%matplotlib inline"
   ]
  },
  {
   "cell_type": "markdown",
   "metadata": {},
   "source": [
    "simple plot"
   ]
  },
  {
   "cell_type": "code",
   "execution_count": 20,
   "metadata": {},
   "outputs": [],
   "source": [
    "a = np.arange(0, 2*np.pi, 2*np.pi/100)\n",
    "b = np.sin(a)"
   ]
  },
  {
   "cell_type": "code",
   "execution_count": 21,
   "metadata": {},
   "outputs": [
    {
     "data": {
      "image/png": "[encoded data removed]",
      "text/plain": [
       "<matplotlib.figure.Figure at 0x10ed22588>"
      ]
     },
     "metadata": {},
     "output_type": "display_data"
    }
   ],
   "source": [
    "plt.plot(a, b);"
   ]
  },
  {
   "cell_type": "markdown",
   "metadata": {},
   "source": [
    "ok this is just a simple plot which seems to be not beatiful.\n",
    "\n",
    "we can change the style with a 2-line code"
   ]
  },
  {
   "cell_type": "code",
   "execution_count": 22,
   "metadata": {},
   "outputs": [],
   "source": [
    "from matplotlib import style\n",
    "style.use('ggplot')      # R style plot"
   ]
  },
  {
   "cell_type": "code",
   "execution_count": 23,
   "metadata": {},
   "outputs": [
    {
     "data": {
      "image/png": "[encoded data removed]",
      "text/plain": [
       "<matplotlib.figure.Figure at 0x10ed74b70>"
      ]
     },
     "metadata": {},
     "output_type": "display_data"
    }
   ],
   "source": [
    "plt.plot(a, b);"
   ]
  },
  {
   "cell_type": "markdown",
   "metadata": {},
   "source": [
    "someone may think it a dead plot which means we are just working with a image. And they need interactive plot"
   ]
  },
  {
   "cell_type": "code",
   "execution_count": 26,
   "metadata": {},
   "outputs": [],
   "source": [
    "%matplotlib tk"
   ]
  },
  {
   "cell_type": "code",
   "execution_count": 27,
   "metadata": {},
   "outputs": [],
   "source": [
    "plt.plot(a, b)\n",
    "plt.show()"
   ]
  },
  {
   "cell_type": "markdown",
   "metadata": {},
   "source": [
    "# with *scipy* you can ..."
   ]
  },
  {
   "cell_type": "markdown",
   "metadata": {},
   "source": [
    "[https://docs.scipy.org/doc/scipy/reference/#tutorial](https://docs.scipy.org/doc/scipy/reference/#tutorial)\n",
    "\n",
    "for example, the integration"
   ]
  },
  {
   "cell_type": "code",
   "execution_count": 28,
   "metadata": {},
   "outputs": [
    {
     "data": {
      "text/plain": [
       "(1.6666666666666667, 1.8503717077085944e-14)"
      ]
     },
     "execution_count": 28,
     "metadata": {},
     "output_type": "execute_result"
    }
   ],
   "source": [
    "from scipy.integrate import quad\n",
    "def integrand(x, a, b):\n",
    "    return a*x**2 + b\n",
    "\n",
    "a = 2\n",
    "b = 1\n",
    "I = quad(integrand, 0, 1, args=(a,b))\n",
    "I"
   ]
  },
  {
   "cell_type": "markdown",
   "metadata": {},
   "source": [
    "ok, but you don't understand the result. then go to\n",
    "\n",
    "[https://docs.scipy.org/doc/scipy/reference/generated/scipy.integrate.quad.html#scipy-integrate-quad](https://docs.scipy.org/doc/scipy/reference/generated/scipy.integrate.quad.html#scipy-integrate-quad)"
   ]
  },
  {
   "cell_type": "markdown",
   "metadata": {},
   "source": [
    "and for example the least-square fitting"
   ]
  },
  {
   "cell_type": "code",
   "execution_count": 29,
   "metadata": {},
   "outputs": [],
   "source": [
    "from scipy.optimize import least_squares"
   ]
  },
  {
   "cell_type": "markdown",
   "metadata": {},
   "source": [
    "define a model"
   ]
  },
  {
   "cell_type": "code",
   "execution_count": 30,
   "metadata": {},
   "outputs": [],
   "source": [
    "def model(x, u):\n",
    "    return x[0] * (u ** 2 + x[1] * u) / (u ** 2 + x[2] * u + x[3])"
   ]
  },
  {
   "cell_type": "markdown",
   "metadata": {},
   "source": [
    "define a loss function"
   ]
  },
  {
   "cell_type": "code",
   "execution_count": 31,
   "metadata": {},
   "outputs": [],
   "source": [
    "def fun(x, u, y):\n",
    "    return model(x, u) - y"
   ]
  },
  {
   "cell_type": "markdown",
   "metadata": {},
   "source": [
    "if we are able to calculate the jacobian matrix"
   ]
  },
  {
   "cell_type": "code",
   "execution_count": 32,
   "metadata": {},
   "outputs": [],
   "source": [
    "def jac(x, u, y):\n",
    "    J = np.empty((u.size, x.size))\n",
    "    den = u ** 2 + x[2] * u + x[3]\n",
    "    num = u ** 2 + x[1] * u\n",
    "    J[:, 0] = num / den\n",
    "    J[:, 1] = x[0] * u / den\n",
    "    J[:, 2] = -x[0] * num * u / den ** 2\n",
    "    J[:, 3] = -x[0] * num / den ** 2\n",
    "    return J"
   ]
  },
  {
   "cell_type": "markdown",
   "metadata": {},
   "source": [
    "and the fitting result"
   ]
  },
  {
   "cell_type": "code",
   "execution_count": 33,
   "metadata": {},
   "outputs": [],
   "source": [
    "# independent variables\n",
    "u = np.array([4.0, 2.0, 1.0, 5.0e-1, 2.5e-1, 1.67e-1, 1.25e-1, 1.0e-1, 8.33e-2, 7.14e-2, 6.25e-2])\n",
    "\n",
    "# observed variables\n",
    "y = np.array([1.957e-1, 1.947e-1, 1.735e-1, 1.6e-1, 8.44e-2, 6.27e-2, 4.56e-2, 3.42e-2, 3.23e-2, 2.35e-2, 2.46e-2])\n",
    "\n",
    "# initial model parameters\n",
    "x0 = np.array([2.5, 3.9, 4.15, 3.9])"
   ]
  },
  {
   "cell_type": "code",
   "execution_count": 34,
   "metadata": {},
   "outputs": [
    {
     "name": "stdout",
     "output_type": "stream",
     "text": [
      "`ftol` termination condition is satisfied.\n",
      "Function evaluations 130, initial cost 4.4383e+00, final cost 1.5375e-04, first-order optimality 4.92e-08.\n"
     ]
    }
   ],
   "source": [
    "res = least_squares(fun, x0, jac=jac, bounds=(0, 100), args=(u, y), verbose=1)"
   ]
  },
  {
   "cell_type": "code",
   "execution_count": 35,
   "metadata": {},
   "outputs": [
    {
     "data": {
      "text/plain": [
       "array([0.19280596, 0.19130423, 0.12306063, 0.13607247])"
      ]
     },
     "execution_count": 35,
     "metadata": {},
     "output_type": "execute_result"
    }
   ],
   "source": [
    "res.x"
   ]
  },
  {
   "cell_type": "code",
   "execution_count": 36,
   "metadata": {},
   "outputs": [
    {
     "data": {
      "image/png": "[encoded data removed]",
      "text/plain": [
       "<matplotlib.figure.Figure at 0x116d53f60>"
      ]
     },
     "metadata": {},
     "output_type": "display_data"
    }
   ],
   "source": [
    "%matplotlib inline\n",
    "import matplotlib.pyplot as plt\n",
    "\n",
    "u_test = np.linspace(0, 5)\n",
    "y_test = model(res.x, u_test)\n",
    "plt.plot(u, y, 'o', markersize=4, label='data')\n",
    "plt.plot(u_test, y_test, label='fitted model')\n",
    "plt.xlabel(\"u\")\n",
    "plt.ylabel(\"y\")\n",
    "plt.legend(loc='lower right');"
   ]
  },
  {
   "cell_type": "markdown",
   "metadata": {},
   "source": [
    "# with *pandas* you can ..."
   ]
  },
  {
   "cell_type": "code",
   "execution_count": 37,
   "metadata": {},
   "outputs": [],
   "source": [
    "import pandas as pd"
   ]
  },
  {
   "cell_type": "code",
   "execution_count": 38,
   "metadata": {},
   "outputs": [
    {
     "data": {
      "text/html": [
       "<div>\n",
       "<style>\n",
       "    .dataframe thead tr:only-child th {\n",
       "        text-align: right;\n",
       "    }\n",
       "\n",
       "    .dataframe thead th {\n",
       "        text-align: left;\n",
       "    }\n",
       "\n",
       "    .dataframe tbody tr th {\n",
       "        vertical-align: top;\n",
       "    }\n",
       "</style>\n",
       "<table border=\"1\" class=\"dataframe\">\n",
       "  <thead>\n",
       "    <tr style=\"text-align: right;\">\n",
       "      <th></th>\n",
       "      <th>name</th>\n",
       "      <th>age</th>\n",
       "      <th>gender</th>\n",
       "    </tr>\n",
       "  </thead>\n",
       "  <tbody>\n",
       "    <tr>\n",
       "      <th>0</th>\n",
       "      <td>John</td>\n",
       "      <td>17</td>\n",
       "      <td>male</td>\n",
       "    </tr>\n",
       "    <tr>\n",
       "      <th>1</th>\n",
       "      <td>Peter</td>\n",
       "      <td>20</td>\n",
       "      <td>male</td>\n",
       "    </tr>\n",
       "    <tr>\n",
       "      <th>2</th>\n",
       "      <td>Allen</td>\n",
       "      <td>21</td>\n",
       "      <td>female</td>\n",
       "    </tr>\n",
       "    <tr>\n",
       "      <th>3</th>\n",
       "      <td>Rain</td>\n",
       "      <td>22</td>\n",
       "      <td>male</td>\n",
       "    </tr>\n",
       "    <tr>\n",
       "      <th>4</th>\n",
       "      <td>Marry</td>\n",
       "      <td>25</td>\n",
       "      <td>female</td>\n",
       "    </tr>\n",
       "  </tbody>\n",
       "</table>\n",
       "</div>"
      ],
      "text/plain": [
       "    name  age  gender\n",
       "0   John   17    male\n",
       "1  Peter   20    male\n",
       "2  Allen   21  female\n",
       "3   Rain   22    male\n",
       "4  Marry   25  female"
      ]
     },
     "execution_count": 38,
     "metadata": {},
     "output_type": "execute_result"
    }
   ],
   "source": [
    "df = pd.read_csv('test.csv')\n",
    "df"
   ]
  },
  {
   "cell_type": "code",
   "execution_count": 39,
   "metadata": {},
   "outputs": [
    {
     "data": {
      "text/plain": [
       "0    17\n",
       "1    20\n",
       "2    21\n",
       "3    22\n",
       "4    25\n",
       "Name: age, dtype: int64"
      ]
     },
     "execution_count": 39,
     "metadata": {},
     "output_type": "execute_result"
    }
   ],
   "source": [
    "df['age']"
   ]
  },
  {
   "cell_type": "code",
   "execution_count": 40,
   "metadata": {},
   "outputs": [
    {
     "data": {
      "text/plain": [
       "count     5.000000\n",
       "mean     21.000000\n",
       "std       2.915476\n",
       "min      17.000000\n",
       "25%      20.000000\n",
       "50%      21.000000\n",
       "75%      22.000000\n",
       "max      25.000000\n",
       "Name: age, dtype: float64"
      ]
     },
     "execution_count": 40,
     "metadata": {},
     "output_type": "execute_result"
    }
   ],
   "source": [
    "df['age'].describe()"
   ]
  },
  {
   "cell_type": "code",
   "execution_count": 41,
   "metadata": {},
   "outputs": [
    {
     "data": {
      "text/plain": [
       "gender\n",
       "female    2\n",
       "male      3\n",
       "Name: age, dtype: int64"
      ]
     },
     "execution_count": 41,
     "metadata": {},
     "output_type": "execute_result"
    }
   ],
   "source": [
    "df.groupby('gender')['age'].count()"
   ]
  },
  {
   "cell_type": "code",
   "execution_count": 42,
   "metadata": {},
   "outputs": [
    {
     "data": {
      "text/plain": [
       "gender\n",
       "female    25\n",
       "male      22\n",
       "Name: age, dtype: int64"
      ]
     },
     "execution_count": 42,
     "metadata": {},
     "output_type": "execute_result"
    }
   ],
   "source": [
    "df.groupby('gender')['age'].max()"
   ]
  },
  {
   "cell_type": "markdown",
   "metadata": {},
   "source": [
    "# with *sympy* you can ..."
   ]
  },
  {
   "cell_type": "code",
   "execution_count": 43,
   "metadata": {},
   "outputs": [],
   "source": [
    "import sympy as sym\n",
    "sym.init_printing() "
   ]
  },
  {
   "cell_type": "code",
   "execution_count": 44,
   "metadata": {},
   "outputs": [],
   "source": [
    "x = sym.Symbol('x')\n",
    "y = sym.Symbol('y')"
   ]
  },
  {
   "cell_type": "code",
   "execution_count": 45,
   "metadata": {},
   "outputs": [
    {
     "data": {
      "image/png": "[encoded data removed]",
      "text/latex": [
       "$$2 x$$"
      ],
      "text/plain": [
       "2⋅x"
      ]
     },
     "execution_count": 45,
     "metadata": {},
     "output_type": "execute_result"
    }
   ],
   "source": [
    "x + y + x - y"
   ]
  },
  {
   "cell_type": "code",
   "execution_count": 46,
   "metadata": {},
   "outputs": [
    {
     "data": {
      "image/png": "[encoded data removed]",
      "text/latex": [
       "$$x^{3} + 3 x^{2} y + 3 x y^{2} + y^{3}$$"
      ],
      "text/plain": [
       " 3      2          2    3\n",
       "x  + 3⋅x ⋅y + 3⋅x⋅y  + y "
      ]
     },
     "execution_count": 46,
     "metadata": {},
     "output_type": "execute_result"
    }
   ],
   "source": [
    "sym.expand((x + y) ** 3)"
   ]
  },
  {
   "cell_type": "code",
   "execution_count": 47,
   "metadata": {},
   "outputs": [
    {
     "data": {
      "image/png": "[encoded data removed]",
      "text/latex": [
       "$$- \\sin{\\left (x \\right )} \\sin{\\left (y \\right )} + \\cos{\\left (x \\right )} \\cos{\\left (y \\right )}$$"
      ],
      "text/plain": [
       "-sin(x)⋅sin(y) + cos(x)⋅cos(y)"
      ]
     },
     "execution_count": 47,
     "metadata": {},
     "output_type": "execute_result"
    }
   ],
   "source": [
    "sym.expand(sym.cos(x + y), trig=True)"
   ]
  },
  {
   "cell_type": "code",
   "execution_count": 48,
   "metadata": {},
   "outputs": [
    {
     "data": {
      "image/png": "[encoded data removed]",
      "text/latex": [
       "$$1$$"
      ],
      "text/plain": [
       "1"
      ]
     },
     "execution_count": 48,
     "metadata": {},
     "output_type": "execute_result"
    }
   ],
   "source": [
    "sym.limit(sym.sin(x) / x, x, 0)"
   ]
  },
  {
   "cell_type": "code",
   "execution_count": 49,
   "metadata": {},
   "outputs": [
    {
     "data": {
      "image/png": "[encoded data removed]",
      "text/latex": [
       "$$0$$"
      ],
      "text/plain": [
       "0"
      ]
     },
     "execution_count": 49,
     "metadata": {},
     "output_type": "execute_result"
    }
   ],
   "source": [
    "sym.limit(1 / x, x, sym.oo)"
   ]
  },
  {
   "cell_type": "code",
   "execution_count": 50,
   "metadata": {},
   "outputs": [
    {
     "data": {
      "image/png": "[encoded data removed]",
      "text/latex": [
       "$$\\left ( 2 \\cos{\\left (2 x \\right )}, \\quad - 4 \\sin{\\left (2 x \\right )}, \\quad - 8 \\cos{\\left (2 x \\right )}\\right )$$"
      ],
      "text/plain": [
       "(2⋅cos(2⋅x), -4⋅sin(2⋅x), -8⋅cos(2⋅x))"
      ]
     },
     "execution_count": 50,
     "metadata": {},
     "output_type": "execute_result"
    }
   ],
   "source": [
    "f = sym.sin(2 * x)\n",
    "sym.diff(f, x, 1), sym.diff(f, x, 2), sym.diff(f, x, 3)"
   ]
  },
  {
   "cell_type": "markdown",
   "metadata": {},
   "source": [
    "# with *sunpy* you can ...\n",
    "\n",
    "too long ..., and sunpy is still under development"
   ]
  },
  {
   "cell_type": "markdown",
   "metadata": {},
   "source": [
    "---\n",
    "\n",
    "after all, to see what you have defined"
   ]
  },
  {
   "cell_type": "code",
   "execution_count": 51,
   "metadata": {
    "collapsed": true
   },
   "outputs": [
    {
     "name": "stdout",
     "output_type": "stream",
     "text": [
      "Variable                    Type                          Data/Info\n",
      "-------------------------------------------------------------------\n",
      "ALLOW_THREADS               int                           1\n",
      "AxisError                   type                          <class 'numpy.core._internal.AxisError'>\n",
      "BUFSIZE                     int                           8192\n",
      "CLIP                        int                           0\n",
      "ComplexWarning              type                          <class 'numpy.core.numeric.ComplexWarning'>\n",
      "DataSource                  type                          <class 'numpy.lib._datasource.DataSource'>\n",
      "ERR_CALL                    int                           3\n",
      "ERR_DEFAULT                 int                           521\n",
      "ERR_IGNORE                  int                           0\n",
      "ERR_LOG                     int                           5\n",
      "ERR_PRINT                   int                           4\n",
      "ERR_RAISE                   int                           2\n",
      "ERR_WARN                    int                           1\n",
      "FLOATING_POINT_SUPPORT      int                           1\n",
      "FPE_DIVIDEBYZERO            int                           1\n",
      "FPE_INVALID                 int                           8\n",
      "FPE_OVERFLOW                int                           2\n",
      "FPE_UNDERFLOW               int                           4\n",
      "False_                      bool_                         False\n",
      "I                           tuple                         n=2\n",
      "Inf                         float                         inf\n",
      "Infinity                    float                         inf\n",
      "MAXDIMS                     int                           32\n",
      "MAY_SHARE_BOUNDS            int                           0\n",
      "MAY_SHARE_EXACT             int                           -1\n",
      "MachAr                      type                          <class 'numpy.core.machar.MachAr'>\n",
      "ModuleDeprecationWarning    type                          <class 'numpy._globals.ModuleDeprecationWarning'>\n",
      "NAN                         float                         nan\n",
      "NINF                        float                         -inf\n",
      "NZERO                       float                         -0.0\n",
      "NaN                         float                         nan\n",
      "PINF                        float                         inf\n",
      "PZERO                       float                         0.0\n",
      "PackageLoader               type                          <class 'numpy._import_tools.PackageLoader'>\n",
      "RAISE                       int                           2\n",
      "RankWarning                 type                          <class 'numpy.lib.polynomial.RankWarning'>\n",
      "SHIFT_DIVIDEBYZERO          int                           0\n",
      "SHIFT_INVALID               int                           9\n",
      "SHIFT_OVERFLOW              int                           3\n",
      "SHIFT_UNDERFLOW             int                           6\n",
      "ScalarType                  tuple                         n=32\n",
      "TooHardError                type                          <class 'numpy.core._internal.TooHardError'>\n",
      "True_                       bool_                         True\n",
      "UFUNC_BUFSIZE_DEFAULT       int                           8192\n",
      "UFUNC_PYVALS_NAME           str                           UFUNC_PYVALS\n",
      "VisibleDeprecationWarning   type                          <class 'numpy._globals.Vi<...>sibleDeprecationWarning'>\n",
      "WRAP                        int                           1\n",
      "a                           int                           2\n",
      "absolute                    ufunc                         <ufunc 'absolute'>\n",
      "add                         ufunc                         <ufunc 'add'>\n",
      "add_docstring               builtin_function_or_method    <built-in function add_docstring>\n",
      "add_newdoc                  function                      <function add_newdoc at 0x10b01b158>\n",
      "add_newdoc_ufunc            builtin_function_or_method    <built-in function _add_newdoc_ufunc>\n",
      "add_newdocs                 module                        <module 'numpy.add_newdoc<...>es/numpy/add_newdocs.py'>\n",
      "alen                        function                      <function alen at 0x10af30bf8>\n",
      "all                         function                      <function all at 0x10af308c8>\n",
      "allclose                    function                      <function allclose at 0x10af208c8>\n",
      "alltrue                     function                      <function alltrue at 0x10af307b8>\n",
      "amax                        function                      <function amax at 0x10af30ae8>\n",
      "amin                        function                      <function amin at 0x10af30b70>\n",
      "angle                       function                      <function angle at 0x10b019bf8>\n",
      "any                         function                      <function any at 0x10af30840>\n",
      "append                      function                      <function append at 0x10b01b378>\n",
      "apply_along_axis            function                      <function apply_along_axis at 0x10b031730>\n",
      "apply_over_axes             function                      <function apply_over_axes at 0x10b0317b8>\n",
      "arange                      builtin_function_or_method    <built-in function arange>\n",
      "arccos                      ufunc                         <ufunc 'arccos'>\n",
      "arccosh                     ufunc                         <ufunc 'arccosh'>\n",
      "arcsin                      ufunc                         <ufunc 'arcsin'>\n",
      "arcsinh                     ufunc                         <ufunc 'arcsinh'>\n",
      "arctan                      ufunc                         <ufunc 'arctan'>\n",
      "arctan2                     ufunc                         <ufunc 'arctan2'>\n",
      "arctanh                     ufunc                         <ufunc 'arctanh'>\n",
      "argmax                      function                      <function argmax at 0x10af22f28>\n",
      "argmin                      function                      <function argmin at 0x10af30048>\n",
      "argpartition                function                      <function argpartition at 0x10af22d90>\n",
      "argsort                     function                      <function argsort at 0x10af22ea0>\n",
      "argwhere                    function                      <function argwhere at 0x10af18d08>\n",
      "around                      function                      <function around at 0x10af30f28>\n",
      "array                       builtin_function_or_method    <built-in function array>\n",
      "array2string                function                      <function array2string at 0x10af31bf8>\n",
      "array_equal                 function                      <function array_equal at 0x10af209d8>\n",
      "array_equiv                 function                      <function array_equiv at 0x10af20a60>\n",
      "array_repr                  function                      <function array_repr at 0x10af46f28>\n",
      "array_split                 function                      <function array_split at 0x10b031a60>\n",
      "array_str                   function                      <function array_str at 0x10af48048>\n",
      "asanyarray                  function                      <function asanyarray at 0x10af18a60>\n",
      "asarray                     function                      <function asarray at 0x10af189d8>\n",
      "asarray_chkfinite           function                      <function asarray_chkfinite at 0x10b019840>\n",
      "ascontiguousarray           function                      <function ascontiguousarray at 0x10af18ae8>\n",
      "asfarray                    function                      <function asfarray at 0x10aff56a8>\n",
      "asfortranarray              function                      <function asfortranarray at 0x10af18b70>\n",
      "asmatrix                    function                      <function asmatrix at 0x10b01b730>\n",
      "asscalar                    function                      <function asscalar at 0x10aff5bf8>\n",
      "atleast_1d                  function                      <function atleast_1d at 0x10af720d0>\n",
      "atleast_2d                  function                      <function atleast_2d at 0x10af72620>\n",
      "atleast_3d                  function                      <function atleast_3d at 0x10af726a8>\n",
      "average                     function                      <function average at 0x10b0197b8>\n",
      "b                           int                           1\n",
      "bartlett                    function                      <function bartlett at 0x10b018840>\n",
      "base_repr                   function                      <function base_repr at 0x10af206a8>\n",
      "binary_repr                 function                      <function binary_repr at 0x10af20620>\n",
      "bincount                    builtin_function_or_method    <built-in function bincount>\n",
      "bitwise_and                 ufunc                         <ufunc 'bitwise_and'>\n",
      "bitwise_not                 ufunc                         <ufunc 'invert'>\n",
      "bitwise_or                  ufunc                         <ufunc 'bitwise_or'>\n",
      "bitwise_xor                 ufunc                         <ufunc 'bitwise_xor'>\n",
      "blackman                    function                      <function blackman at 0x10b0187b8>\n",
      "block                       function                      <function block at 0x10af729d8>\n",
      "bmat                        function                      <function bmat at 0x10b025a60>\n",
      "bool8                       type                          <class 'numpy.bool_'>\n",
      "bool_                       type                          <class 'numpy.bool_'>\n",
      "broadcast                   type                          <class 'numpy.broadcast'>\n",
      "broadcast_arrays            function                      <function broadcast_arrays at 0x10b025f28>\n",
      "broadcast_to                function                      <function broadcast_to at 0x10b025e18>\n",
      "busday_count                builtin_function_or_method    <built-in function busday_count>\n",
      "busday_offset               builtin_function_or_method    <built-in function busday_offset>\n",
      "busdaycalendar              type                          <class 'numpy.busdaycalendar'>\n",
      "byte                        type                          <class 'numpy.int8'>\n",
      "byte_bounds                 function                      <function byte_bounds at 0x10afd6a60>\n",
      "bytes0                      type                          <class 'numpy.bytes_'>\n",
      "bytes_                      type                          <class 'numpy.bytes_'>\n",
      "c_                          CClass                        <numpy.lib.index_tricks.C<...>ss object at 0x10b02a080>\n",
      "can_cast                    builtin_function_or_method    <built-in function can_cast>\n",
      "cast                        _typedict                     {<class 'numpy.bool_'>: <<...><lambda> at 0x10af14048>}\n",
      "cbrt                        ufunc                         <ufunc 'cbrt'>\n",
      "cdouble                     type                          <class 'numpy.complex128'>\n",
      "ceil                        ufunc                         <ufunc 'ceil'>\n",
      "cfloat                      type                          <class 'numpy.complex128'>\n",
      "char                        module                        <module 'numpy.core.defch<...>py/core/defchararray.py'>\n",
      "character                   type                          <class 'numpy.character'>\n",
      "chararray                   type                          <class 'numpy.core.defchararray.chararray'>\n",
      "choose                      function                      <function choose at 0x10af22a60>\n",
      "clip                        function                      <function clip at 0x10af30598>\n",
      "clongdouble                 type                          <class 'numpy.complex256'>\n",
      "clongfloat                  type                          <class 'numpy.complex256'>\n",
      "column_stack                function                      <function column_stack at 0x10b0318c8>\n",
      "common_type                 function                      <function common_type at 0x10aff5d08>\n",
      "compare_chararrays          builtin_function_or_method    <built-in function compare_chararrays>\n",
      "complex128                  type                          <class 'numpy.complex128'>\n",
      "complex256                  type                          <class 'numpy.complex256'>\n",
      "complex64                   type                          <class 'numpy.complex64'>\n",
      "complex_                    type                          <class 'numpy.complex128'>\n",
      "complexfloating             type                          <class 'numpy.complexfloating'>\n",
      "compress                    function                      <function compress at 0x10af30510>\n",
      "concatenate                 builtin_function_or_method    <built-in function concatenate>\n",
      "conj                        ufunc                         <ufunc 'conjugate'>\n",
      "conjugate                   ufunc                         <ufunc 'conjugate'>\n",
      "convolve                    function                      <function convolve at 0x10af18f28>\n",
      "copy                        function                      <function copy at 0x10b0199d8>\n",
      "copysign                    ufunc                         <ufunc 'copysign'>\n",
      "copyto                      builtin_function_or_method    <built-in function copyto>\n",
      "corrcoef                    function                      <function corrcoef at 0x10b018730>\n",
      "correlate                   function                      <function correlate at 0x10af18ea0>\n",
      "cos                         ufunc                         <ufunc 'cos'>\n",
      "cosh                        ufunc                         <ufunc 'cosh'>\n",
      "count_nonzero               function                      <function count_nonzero at 0x10af18950>\n",
      "cov                         function                      <function cov at 0x10b018400>\n",
      "cross                       function                      <function cross at 0x10af20400>\n",
      "csingle                     type                          <class 'numpy.complex64'>\n",
      "ctypeslib                   module                        <module 'numpy.ctypeslib'<...>ages/numpy/ctypeslib.py'>\n",
      "cumprod                     function                      <function cumprod at 0x10af30d08>\n",
      "cumproduct                  function                      <function cumproduct at 0x10af309d8>\n",
      "cumsum                      function                      <function cumsum at 0x10af30950>\n",
      "datetime64                  type                          <class 'numpy.datetime64'>\n",
      "datetime_as_string          builtin_function_or_method    <built-in function datetime_as_string>\n",
      "datetime_data               builtin_function_or_method    <built-in function datetime_data>\n",
      "deg2rad                     ufunc                         <ufunc 'deg2rad'>\n",
      "degrees                     ufunc                         <ufunc 'degrees'>\n",
      "delete                      function                      <function delete at 0x10b01b268>\n",
      "deprecate                   function                      <function deprecate at 0x10afd67b8>\n",
      "deprecate_with_doc          function                      <function <lambda> at 0x10afd69d8>\n",
      "df                          DataFrame                         name  age  gender\\n0 <...>le\\n4  Marry   25  female\n",
      "diag                        function                      <function diag at 0x10affcae8>\n",
      "diag_indices                function                      <function diag_indices at 0x10b0299d8>\n",
      "diag_indices_from           function                      <function diag_indices_from at 0x10b029a60>\n",
      "diagflat                    function                      <function diagflat at 0x10affcb70>\n",
      "diagonal                    function                      <function diagonal at 0x10af30268>\n",
      "diff                        function                      <function diff at 0x10b019ae8>\n",
      "digitize                    builtin_function_or_method    <built-in function digitize>\n",
      "disp                        function                      <function disp at 0x10b0180d0>\n",
      "divide                      ufunc                         <ufunc 'true_divide'>\n",
      "divmod                      ufunc                         <ufunc 'divmod'>\n",
      "dot                         builtin_function_or_method    <built-in function dot>\n",
      "double                      type                          <class 'numpy.float64'>\n",
      "dsplit                      function                      <function dsplit at 0x10b031c80>\n",
      "dstack                      function                      <function dstack at 0x10b031950>\n",
      "dtype                       type                          <class 'numpy.dtype'>\n",
      "e                           float                         2.718281828459045\n",
      "ediff1d                     function                      <function ediff1d at 0x10b059a60>\n",
      "einsum                      function                      <function einsum at 0x10af72ea0>\n",
      "einsum_path                 function                      <function einsum_path at 0x10af72e18>\n",
      "emath                       module                        <module 'numpy.lib.scimat<...>es/numpy/lib/scimath.py'>\n",
      "empty                       builtin_function_or_method    <built-in function empty>\n",
      "empty_like                  builtin_function_or_method    <built-in function empty_like>\n",
      "equal                       ufunc                         <ufunc 'equal'>\n",
      "errstate                    type                          <class 'numpy.core.numeric.errstate'>\n",
      "euler_gamma                 float                         0.5772156649015329\n",
      "exp                         ufunc                         <ufunc 'exp'>\n",
      "exp2                        ufunc                         <ufunc 'exp2'>\n",
      "expand_dims                 function                      <function expand_dims at 0x10b031840>\n",
      "expm1                       ufunc                         <ufunc 'expm1'>\n",
      "extract                     function                      <function extract at 0x10b019f28>\n",
      "eye                         function                      <function eye at 0x10affca60>\n",
      "f                           sin                           sin(2*x)\n",
      "fabs                        ufunc                         <ufunc 'fabs'>\n",
      "fastCopyAndTranspose        builtin_function_or_method    <built-in function _fastCopyAndTranspose>\n",
      "fft                         module                        <module 'numpy.fft' from <...>s/numpy/fft/__init__.py'>\n",
      "fill_diagonal               function                      <function fill_diagonal at 0x10b029048>\n",
      "find_common_type            function                      <function find_common_type at 0x109521598>\n",
      "finfo                       type                          <class 'numpy.core.getlimits.finfo'>\n",
      "fix                         function                      <function fix at 0x10aff5400>\n",
      "flatiter                    type                          <class 'numpy.flatiter'>\n"
     ]
    },
    {
     "name": "stdout",
     "output_type": "stream",
     "text": [
      "flatnonzero                 function                      <function flatnonzero at 0x10af18d90>\n",
      "flexible                    type                          <class 'numpy.flexible'>\n",
      "flip                        function                      <function flip at 0x10b0191e0>\n",
      "fliplr                      function                      <function fliplr at 0x10affc950>\n",
      "flipud                      function                      <function flipud at 0x10affc9d8>\n",
      "float128                    type                          <class 'numpy.float128'>\n",
      "float16                     type                          <class 'numpy.float16'>\n",
      "float32                     type                          <class 'numpy.float32'>\n",
      "float64                     type                          <class 'numpy.float64'>\n",
      "float_                      type                          <class 'numpy.float64'>\n",
      "float_power                 ufunc                         <ufunc 'float_power'>\n",
      "floating                    type                          <class 'numpy.floating'>\n",
      "floor                       ufunc                         <ufunc 'floor'>\n",
      "floor_divide                ufunc                         <ufunc 'floor_divide'>\n",
      "fmax                        ufunc                         <ufunc 'fmax'>\n",
      "fmin                        ufunc                         <ufunc 'fmin'>\n",
      "fmod                        ufunc                         <ufunc 'fmod'>\n",
      "format_float_positional     function                      <function format_float_positional at 0x10af46268>\n",
      "format_float_scientific     function                      <function format_float_scientific at 0x10af31ea0>\n",
      "format_parser               type                          <class 'numpy.core.records.format_parser'>\n",
      "frexp                       ufunc                         <ufunc 'frexp'>\n",
      "frombuffer                  builtin_function_or_method    <built-in function frombuffer>\n",
      "fromfile                    builtin_function_or_method    <built-in function fromfile>\n",
      "fromfunction                function                      <function fromfunction at 0x10af20510>\n",
      "fromiter                    builtin_function_or_method    <built-in function fromiter>\n",
      "frompyfunc                  builtin_function_or_method    <built-in function frompyfunc>\n",
      "fromregex                   function                      <function fromregex at 0x10b0a9e18>\n",
      "fromstring                  builtin_function_or_method    <built-in function fromstring>\n",
      "full                        function                      <function full at 0x10af18840>\n",
      "full_like                   function                      <function full_like at 0x10af188c8>\n",
      "fun                         function                      <function fun at 0x11797c620>\n",
      "fv                          function                      <function fv at 0x10b0a82f0>\n",
      "generic                     type                          <class 'numpy.generic'>\n",
      "genfromtxt                  function                      <function genfromtxt at 0x10b0a9ea0>\n",
      "geomspace                   function                      <function geomspace at 0x10af682f0>\n",
      "get_array_wrap              function                      <function get_array_wrap at 0x10b031d90>\n",
      "get_include                 function                      <function get_include at 0x10afd66a8>\n",
      "get_printoptions            function                      <function get_printoptions at 0x10af317b8>\n",
      "getbufsize                  function                      <function getbufsize at 0x10af20c80>\n",
      "geterr                      function                      <function geterr at 0x10af20b70>\n",
      "geterrcall                  function                      <function geterrcall at 0x10af20d90>\n",
      "geterrobj                   builtin_function_or_method    <built-in function geterrobj>\n",
      "gradient                    function                      <function gradient at 0x10b019a60>\n",
      "greater                     ufunc                         <ufunc 'greater'>\n",
      "greater_equal               ufunc                         <ufunc 'greater_equal'>\n",
      "half                        type                          <class 'numpy.float16'>\n",
      "hamming                     function                      <function hamming at 0x10b018950>\n",
      "hanning                     function                      <function hanning at 0x10b0188c8>\n",
      "heaviside                   ufunc                         <ufunc 'heaviside'>\n",
      "histogram                   function                      <function histogram at 0x10b0196a8>\n",
      "histogram2d                 function                      <function histogram2d at 0x10affce18>\n",
      "histogramdd                 function                      <function histogramdd at 0x10b019730>\n",
      "hsplit                      function                      <function hsplit at 0x10b031b70>\n",
      "hstack                      function                      <function hstack at 0x10af727b8>\n",
      "hypot                       ufunc                         <ufunc 'hypot'>\n",
      "i0                          function                      <function i0 at 0x10b018b70>\n",
      "identity                    function                      <function identity at 0x10af20840>\n",
      "iinfo                       type                          <class 'numpy.core.getlimits.iinfo'>\n",
      "imag                        function                      <function imag at 0x10aff57b8>\n",
      "in1d                        function                      <function in1d at 0x10b05ad90>\n",
      "index_exp                   IndexExpression               <numpy.lib.index_tricks.I<...>on object at 0x10b02a160>\n",
      "indices                     function                      <function indices at 0x10af20488>\n",
      "inexact                     type                          <class 'numpy.inexact'>\n",
      "inf                         float                         inf\n",
      "info                        function                      <function info at 0x10afd6d08>\n",
      "infty                       float                         inf\n",
      "inner                       builtin_function_or_method    <built-in function inner>\n",
      "insert                      function                      <function insert at 0x10b01b2f0>\n",
      "int0                        type                          <class 'numpy.int64'>\n",
      "int16                       type                          <class 'numpy.int16'>\n",
      "int32                       type                          <class 'numpy.int32'>\n",
      "int64                       type                          <class 'numpy.int64'>\n",
      "int8                        type                          <class 'numpy.int8'>\n",
      "int_                        type                          <class 'numpy.int64'>\n",
      "int_asbuffer                builtin_function_or_method    <built-in function int_asbuffer>\n",
      "intc                        type                          <class 'numpy.int32'>\n",
      "integer                     type                          <class 'numpy.integer'>\n",
      "integrand                   function                      <function integrand at 0x1156a0950>\n",
      "interp                      function                      <function interp at 0x10b019b70>\n",
      "intersect1d                 function                      <function intersect1d at 0x10b05ac80>\n",
      "intp                        type                          <class 'numpy.int64'>\n",
      "invert                      ufunc                         <ufunc 'invert'>\n",
      "ipmt                        function                      <function ipmt at 0x10b0a8488>\n",
      "irr                         function                      <function irr at 0x10b0a87b8>\n",
      "is_busday                   builtin_function_or_method    <built-in function is_busday>\n",
      "isclose                     function                      <function isclose at 0x10af20950>\n",
      "iscomplex                   function                      <function iscomplex at 0x10aff5840>\n",
      "iscomplexobj                function                      <function iscomplexobj at 0x10aff5950>\n",
      "isfinite                    ufunc                         <ufunc 'isfinite'>\n",
      "isfortran                   function                      <function isfortran at 0x10af18c80>\n",
      "isin                        function                      <function isin at 0x10b05ae18>\n",
      "isinf                       ufunc                         <ufunc 'isinf'>\n",
      "isnan                       ufunc                         <ufunc 'isnan'>\n",
      "isnat                       ufunc                         <ufunc 'isnat'>\n",
      "isneginf                    function                      <function isneginf at 0x10aff5620>\n",
      "isposinf                    function                      <function isposinf at 0x10aff5510>\n",
      "isreal                      function                      <function isreal at 0x10aff58c8>\n",
      "isrealobj                   function                      <function isrealobj at 0x10aff59d8>\n",
      "isscalar                    function                      <function isscalar at 0x10af20598>\n",
      "issctype                    function                      <function issctype at 0x10af03ea0>\n",
      "issubclass_                 function                      <function issubclass_ at 0x10af12048>\n",
      "issubdtype                  function                      <function issubdtype at 0x10af12158>\n",
      "issubsctype                 function                      <function issubsctype at 0x10af120d0>\n",
      "iterable                    function                      <function iterable at 0x10b019268>\n",
      "ix_                         function                      <function ix_ at 0x10aff5f28>\n",
      "jac                         function                      <function jac at 0x11797ad90>\n",
      "json                        module                        <module 'json' from '/Use<...>hon3.6/json/__init__.py'>\n",
      "kaiser                      function                      <function kaiser at 0x10b018bf8>\n",
      "kron                        function                      <function kron at 0x10b031e18>\n",
      "ldexp                       ufunc                         <ufunc 'ldexp'>\n",
      "least_squares               function                      <function least_squares at 0x11793dae8>\n",
      "left_shift                  ufunc                         <ufunc 'left_shift'>\n",
      "less                        ufunc                         <ufunc 'less'>\n",
      "less_equal                  ufunc                         <ufunc 'less_equal'>\n",
      "lexsort                     builtin_function_or_method    <built-in function lexsort>\n",
      "linalg                      module                        <module 'numpy.linalg' fr<...>umpy/linalg/__init__.py'>\n",
      "linspace                    function                      <function linspace at 0x10af681e0>\n",
      "little_endian               bool                          True\n",
      "load                        function                      <function load at 0x10b0a9378>\n",
      "loads                       builtin_function_or_method    <built-in function loads>\n",
      "loadtxt                     function                      <function loadtxt at 0x10b0a9d08>\n",
      "log                         ufunc                         <ufunc 'log'>\n",
      "log10                       ufunc                         <ufunc 'log10'>\n",
      "log1p                       ufunc                         <ufunc 'log1p'>\n",
      "log2                        ufunc                         <ufunc 'log2'>\n",
      "logaddexp                   ufunc                         <ufunc 'logaddexp'>\n",
      "logaddexp2                  ufunc                         <ufunc 'logaddexp2'>\n",
      "logical_and                 ufunc                         <ufunc 'logical_and'>\n",
      "logical_not                 ufunc                         <ufunc 'logical_not'>\n",
      "logical_or                  ufunc                         <ufunc 'logical_or'>\n",
      "logical_xor                 ufunc                         <ufunc 'logical_xor'>\n",
      "logspace                    function                      <function logspace at 0x10af68268>\n",
      "long                        type                          <class 'int'>\n",
      "longcomplex                 type                          <class 'numpy.complex256'>\n",
      "longdouble                  type                          <class 'numpy.float128'>\n",
      "longfloat                   type                          <class 'numpy.float128'>\n",
      "longlong                    type                          <class 'numpy.int64'>\n",
      "lookfor                     function                      <function lookfor at 0x10afd6e18>\n",
      "ma                          module                        <module 'numpy.ma' from '<...>es/numpy/ma/__init__.py'>\n",
      "mafromtxt                   function                      <function mafromtxt at 0x10b0a8048>\n",
      "mask_indices                function                      <function mask_indices at 0x10affcea0>\n",
      "mat                         function                      <function asmatrix at 0x10b01b730>\n",
      "math                        module                        <module 'math' from '/Use<...>h.cpython-36m-darwin.so'>\n",
      "matmul                      builtin_function_or_method    <built-in function matmul>\n",
      "matrix                      type                          <class 'numpy.matrixlib.defmatrix.matrix'>\n",
      "maximum                     ufunc                         <ufunc 'maximum'>\n",
      "maximum_sctype              function                      <function maximum_sctype at 0x10af03e18>\n",
      "may_share_memory            builtin_function_or_method    <built-in function may_share_memory>\n",
      "mean                        function                      <function mean at 0x10af310d0>\n",
      "median                      function                      <function median at 0x10b018e18>\n",
      "memmap                      type                          <class 'numpy.core.memmap.memmap'>\n",
      "meshgrid                    function                      <function meshgrid at 0x10b01b1e0>\n",
      "mgrid                       nd_grid                       <numpy.lib.index_tricks.n<...>id object at 0x10affb5c0>\n",
      "min_scalar_type             builtin_function_or_method    <built-in function min_scalar_type>\n",
      "minimum                     ufunc                         <ufunc 'minimum'>\n",
      "mintypecode                 function                      <function mintypecode at 0x10aad9400>\n",
      "mirr                        function                      <function mirr at 0x10b0a88c8>\n",
      "mod                         ufunc                         <ufunc 'remainder'>\n",
      "model                       function                      <function model at 0x11797c158>\n",
      "modf                        ufunc                         <ufunc 'modf'>\n",
      "moveaxis                    function                      <function moveaxis at 0x10af202f0>\n",
      "msort                       function                      <function msort at 0x10b018d08>\n",
      "multiply                    ufunc                         <ufunc 'multiply'>\n",
      "nan                         float                         nan\n",
      "nan_to_num                  function                      <function nan_to_num at 0x10aff5ae8>\n",
      "nanargmax                   function                      <function nanargmax at 0x10b02fd90>\n",
      "nanargmin                   function                      <function nanargmin at 0x10b02fd08>\n",
      "nancumprod                  function                      <function nancumprod at 0x10b031048>\n",
      "nancumsum                   function                      <function nancumsum at 0x10b02ff28>\n",
      "nanmax                      function                      <function nanmax at 0x10b02fc80>\n",
      "nanmean                     function                      <function nanmean at 0x10b0310d0>\n",
      "nanmedian                   function                      <function nanmedian at 0x10b0312f0>\n",
      "nanmin                      function                      <function nanmin at 0x10b02fbf8>\n",
      "nanpercentile               function                      <function nanpercentile at 0x10b031378>\n",
      "nanprod                     function                      <function nanprod at 0x10b02fea0>\n",
      "nanstd                      function                      <function nanstd at 0x10b031598>\n",
      "nansum                      function                      <function nansum at 0x10b02fe18>\n",
      "nanvar                      function                      <function nanvar at 0x10b031510>\n",
      "nbytes                      _typedict                     {<class 'numpy.bool_'>: 1<...> 'numpy.timedelta64'>: 8}\n",
      "ndarray                     type                          <class 'numpy.ndarray'>\n",
      "ndenumerate                 type                          <class 'numpy.lib.index_tricks.ndenumerate'>\n",
      "ndfromtxt                   function                      <function ndfromtxt at 0x10b0a9f28>\n",
      "ndim                        function                      <function ndim at 0x10af30d90>\n",
      "ndindex                     type                          <class 'numpy.lib.index_tricks.ndindex'>\n",
      "nditer                      type                          <class 'numpy.nditer'>\n",
      "negative                    ufunc                         <ufunc 'negative'>\n",
      "nested_iters                builtin_function_or_method    <built-in function nested_iters>\n",
      "newaxis                     NoneType                      None\n",
      "nextafter                   ufunc                         <ufunc 'nextafter'>\n",
      "nonzero                     function                      <function nonzero at 0x10af30400>\n",
      "not_equal                   ufunc                         <ufunc 'not_equal'>\n",
      "np                          module                        <module 'numpy' from '/Us<...>kages/numpy/__init__.py'>\n",
      "nper                        function                      <function nper at 0x10b0a8400>\n",
      "npv                         function                      <function npv at 0x10b0a8840>\n",
      "number                      type                          <class 'numpy.number'>\n",
      "numpy                       module                        <module 'numpy' from '/Us<...>kages/numpy/__init__.py'>\n",
      "obj2sctype                  function                      <function obj2sctype at 0x10af03f28>\n",
      "object0                     type                          <class 'numpy.object_'>\n",
      "object_                     type                          <class 'numpy.object_'>\n",
      "ogrid                       nd_grid                       <numpy.lib.index_tricks.n<...>id object at 0x10affb630>\n",
      "ones                        function                      <function ones at 0x10af18730>\n",
      "ones_like                   function                      <function ones_like at 0x10af187b8>\n",
      "outer                       function                      <function outer at 0x10af20048>\n",
      "packbits                    builtin_function_or_method    <built-in function packbits>\n",
      "pad                         function                      <function pad at 0x10b0b9a60>\n",
      "partition                   function                      <function partition at 0x10af22d08>\n",
      "pd                          module                        <module 'pandas' from '/U<...>ages/pandas/__init__.py'>\n",
      "percentile                  function                      <function percentile at 0x10b018f28>\n",
      "pi                          float                         3.141592653589793\n",
      "piecewise                   function                      <function piecewise at 0x10b0198c8>\n",
      "pkgload                     function                      <function pkgload at 0x108f008c8>\n",
      "place                       function                      <function place at 0x10b018048>\n",
      "plt                         module                        <module 'matplotlib.pyplo<...>es/matplotlib/pyplot.py'>\n",
      "pmt                         function                      <function pmt at 0x10b0a8378>\n",
      "poly                        function                      <function poly at 0x10b03a7b8>\n",
      "poly1d                      type                          <class 'numpy.lib.polynomial.poly1d'>\n",
      "polyadd                     function                      <function polyadd at 0x10b0597b8>\n",
      "polyder                     function                      <function polyder at 0x10b059620>\n",
      "polydiv                     function                      <function polydiv at 0x10b059950>\n",
      "polyfit                     function                      <function polyfit at 0x10b0596a8>\n",
      "polyint                     function                      <function polyint at 0x10b059598>\n",
      "polymul                     function                      <function polymul at 0x10b0598c8>\n",
      "polysub                     function                      <function polysub at 0x10b059840>\n",
      "polyval                     function                      <function polyval at 0x10b059730>\n",
      "positive                    ufunc                         <ufunc 'positive'>\n",
      "power                       ufunc                         <ufunc 'power'>\n",
      "ppmt                        function                      <function ppmt at 0x10b0a8598>\n",
      "prod                        function                      <function prod at 0x10af30c80>\n",
      "product                     function                      <function product at 0x10af306a8>\n",
      "promote_types               builtin_function_or_method    <built-in function promote_types>\n",
      "ptp                         function                      <function ptp at 0x10af30a60>\n",
      "put                         function                      <function put at 0x10af22b70>\n",
      "putmask                     builtin_function_or_method    <built-in function putmask>\n",
      "pv                          function                      <function pv at 0x10b0a8620>\n",
      "quad                        function                      <function quad at 0x10f5cc950>\n",
      "r_                          RClass                        <numpy.lib.index_tricks.R<...>ss object at 0x10b01ffd0>\n",
      "rad2deg                     ufunc                         <ufunc 'rad2deg'>\n",
      "radians                     ufunc                         <ufunc 'radians'>\n",
      "random                      module                        <module 'numpy.random' fr<...>umpy/random/__init__.py'>\n",
      "rank                        function                      <function rank at 0x10af30e18>\n",
      "rate                        function                      <function rate at 0x10b0a8730>\n",
      "ravel                       function                      <function ravel at 0x10af30378>\n",
      "ravel_multi_index           builtin_function_or_method    <built-in function ravel_multi_index>\n",
      "real                        function                      <function real at 0x10aff5730>\n",
      "real_if_close               function                      <function real_if_close at 0x10aff5b70>\n",
      "rec                         module                        <module 'numpy.core.recor<...>s/numpy/core/records.py'>\n",
      "recarray                    type                          <class 'numpy.recarray'>\n",
      "recfromcsv                  function                      <function recfromcsv at 0x10b0a8158>\n",
      "recfromtxt                  function                      <function recfromtxt at 0x10b0a80d0>\n",
      "reciprocal                  ufunc                         <ufunc 'reciprocal'>\n",
      "record                      type                          <class 'numpy.record'>\n",
      "remainder                   ufunc                         <ufunc 'remainder'>\n",
      "repeat                      function                      <function repeat at 0x10af22ae8>\n",
      "require                     function                      <function require at 0x10af18bf8>\n",
      "res                         OptimizeResult                 active_mask: array([0, 0<...> 0.12306063, 0.13607247])\n",
      "reshape                     function                      <function reshape at 0x10af229d8>\n",
      "resize                      function                      <function resize at 0x10af30158>\n",
      "result_type                 builtin_function_or_method    <built-in function result_type>\n",
      "right_shift                 ufunc                         <ufunc 'right_shift'>\n",
      "rint                        ufunc                         <ufunc 'rint'>\n",
      "roll                        function                      <function roll at 0x10af20158>\n",
      "rollaxis                    function                      <function rollaxis at 0x10af201e0>\n",
      "roots                       function                      <function roots at 0x10b03a8c8>\n",
      "rot90                       function                      <function rot90 at 0x10affc7b8>\n",
      "round_                      function                      <function round_ at 0x10af31048>\n",
      "row_stack                   function                      <function vstack at 0x10af72730>\n",
      "s_                          IndexExpression               <numpy.lib.index_tricks.I<...>on object at 0x10b02a198>\n",
      "safe_eval                   function                      <function safe_eval at 0x10afee048>\n",
      "save                        function                      <function save at 0x10b0a9a60>\n",
      "savetxt                     function                      <function savetxt at 0x10b0a9d90>\n",
      "savez                       function                      <function savez at 0x10b0a9ae8>\n",
      "savez_compressed            function                      <function savez_compressed at 0x10b0a9b70>\n",
      "sctype2char                 function                      <function sctype2char at 0x10af122f0>\n",
      "sctypeDict                  dict                          n=157\n",
      "sctypeNA                    dict                          n=88\n",
      "sctypes                     dict                          n=5\n",
      "searchsorted                function                      <function searchsorted at 0x10af300d0>\n",
      "select                      function                      <function select at 0x10b019950>\n",
      "set_numeric_ops             builtin_function_or_method    <built-in function set_numeric_ops>\n",
      "set_printoptions            function                      <function set_printoptions at 0x10af31730>\n",
      "set_string_function         function                      <function set_string_function at 0x10af480d0>\n",
      "setbufsize                  function                      <function setbufsize at 0x10af20bf8>\n",
      "setdiff1d                   function                      <function setdiff1d at 0x10b05af28>\n",
      "seterr                      function                      <function seterr at 0x10af20ae8>\n",
      "seterrcall                  function                      <function seterrcall at 0x10af20d08>\n",
      "seterrobj                   builtin_function_or_method    <built-in function seterrobj>\n",
      "setxor1d                    function                      <function setxor1d at 0x10b05ad08>\n",
      "shape                       function                      <function shape at 0x10af30488>\n",
      "shares_memory               builtin_function_or_method    <built-in function shares_memory>\n",
      "short                       type                          <class 'numpy.int16'>\n",
      "show_config                 function                      <function show at 0x10aad9620>\n",
      "sign                        ufunc                         <ufunc 'sign'>\n",
      "signbit                     ufunc                         <ufunc 'signbit'>\n",
      "signedinteger               type                          <class 'numpy.signedinteger'>\n",
      "sin                         ufunc                         <ufunc 'sin'>\n",
      "sinc                        function                      <function sinc at 0x10b018c80>\n",
      "single                      type                          <class 'numpy.float32'>\n",
      "singlecomplex               type                          <class 'numpy.complex64'>\n",
      "sinh                        ufunc                         <ufunc 'sinh'>\n",
      "size                        function                      <function size at 0x10af30ea0>\n",
      "sometrue                    function                      <function sometrue at 0x10af30730>\n",
      "sort                        function                      <function sort at 0x10af22e18>\n",
      "sort_complex                function                      <function sort_complex at 0x10b019d08>\n",
      "source                      function                      <function source at 0x10afd6d90>\n",
      "spacing                     ufunc                         <ufunc 'spacing'>\n",
      "split                       function                      <function split at 0x10b031ae8>\n",
      "sqrt                        ufunc                         <ufunc 'sqrt'>\n",
      "square                      ufunc                         <ufunc 'square'>\n",
      "squeeze                     function                      <function squeeze at 0x10af301e0>\n",
      "stack                       function                      <function stack at 0x10af72840>\n",
      "std                         function                      <function std at 0x10af31158>\n",
      "str0                        type                          <class 'numpy.str_'>\n",
      "str_                        type                          <class 'numpy.str_'>\n",
      "string_                     type                          <class 'numpy.bytes_'>\n",
      "style                       module                        <module 'matplotlib.style<...>otlib/style/__init__.py'>\n",
      "subtract                    ufunc                         <ufunc 'subtract'>\n",
      "sum                         function                      <function sum at 0x10af30620>\n",
      "swapaxes                    function                      <function swapaxes at 0x10af22bf8>\n",
      "sym                         module                        <module 'sympy' from '/Us<...>kages/sympy/__init__.py'>\n",
      "take                        function                      <function take at 0x10af22950>\n",
      "tan                         ufunc                         <ufunc 'tan'>\n",
      "tanh                        ufunc                         <ufunc 'tanh'>\n",
      "tensordot                   function                      <function tensordot at 0x10af200d0>\n",
      "tile                        function                      <function tile at 0x10b031ea0>\n",
      "timedelta64                 type                          <class 'numpy.timedelta64'>\n",
      "trace                       function                      <function trace at 0x10af302f0>\n",
      "tracemalloc_domain          int                           389047\n",
      "transpose                   function                      <function transpose at 0x10af22c80>\n",
      "trapz                       function                      <function trapz at 0x10b01b0d0>\n",
      "tri                         function                      <function tri at 0x10affcbf8>\n",
      "tril                        function                      <function tril at 0x10affcc80>\n",
      "tril_indices                function                      <function tril_indices at 0x10affcf28>\n",
      "tril_indices_from           function                      <function tril_indices_from at 0x10b019048>\n",
      "trim_zeros                  function                      <function trim_zeros at 0x10b019d90>\n",
      "triu                        function                      <function triu at 0x10affcd08>\n",
      "triu_indices                function                      <function triu_indices at 0x10b0190d0>\n",
      "triu_indices_from           function                      <function triu_indices_from at 0x10b019158>\n",
      "true_divide                 ufunc                         <ufunc 'true_divide'>\n",
      "trunc                       ufunc                         <ufunc 'trunc'>\n",
      "typeDict                    dict                          n=157\n",
      "typeNA                      dict                          n=88\n",
      "typecodes                   dict                          n=9\n",
      "typename                    function                      <function typename at 0x10aff5c80>\n",
      "u                           ndarray                       11: 11 elems, type `float64`, 88 bytes\n",
      "u_test                      ndarray                       50: 50 elems, type `float64`, 400 bytes\n",
      "ubyte                       type                          <class 'numpy.uint8'>\n",
      "ufunc                       type                          <class 'numpy.ufunc'>\n",
      "uint                        type                          <class 'numpy.uint64'>\n",
      "uint0                       type                          <class 'numpy.uint64'>\n",
      "uint16                      type                          <class 'numpy.uint16'>\n",
      "uint32                      type                          <class 'numpy.uint32'>\n",
      "uint64                      type                          <class 'numpy.uint64'>\n",
      "uint8                       type                          <class 'numpy.uint8'>\n",
      "uintc                       type                          <class 'numpy.uint32'>\n",
      "uintp                       type                          <class 'numpy.uint64'>\n",
      "ulonglong                   type                          <class 'numpy.uint64'>\n",
      "unicode                     type                          <class 'str'>\n",
      "unicode_                    type                          <class 'numpy.str_'>\n",
      "union1d                     function                      <function union1d at 0x10b05aea0>\n",
      "unique                      function                      <function unique at 0x10b05ab70>\n",
      "unpackbits                  builtin_function_or_method    <built-in function unpackbits>\n",
      "unravel_index               builtin_function_or_method    <built-in function unravel_index>\n",
      "unsignedinteger             type                          <class 'numpy.unsignedinteger'>\n",
      "unwrap                      function                      <function unwrap at 0x10b019c80>\n",
      "ushort                      type                          <class 'numpy.uint16'>\n",
      "v1                          ndarray                       5: 5 elems, type `int64`, 40 bytes\n",
      "v2                          ndarray                       5: 5 elems, type `int64`, 40 bytes\n",
      "vander                      function                      <function vander at 0x10affcd90>\n",
      "var                         function                      <function var at 0x10af311e0>\n",
      "vdot                        builtin_function_or_method    <built-in function vdot>\n",
      "vectorize                   type                          <class 'numpy.lib.function_base.vectorize'>\n",
      "void                        type                          <class 'numpy.void'>\n",
      "void0                       type                          <class 'numpy.void'>\n",
      "vsplit                      function                      <function vsplit at 0x10b031bf8>\n",
      "vstack                      function                      <function vstack at 0x10af72730>\n",
      "where                       builtin_function_or_method    <built-in function where>\n",
      "who                         function                      <function who at 0x10afd6ae8>\n",
      "x                           Symbol                        x\n",
      "x0                          ndarray                       4: 4 elems, type `float64`, 32 bytes\n",
      "y                           Symbol                        y\n",
      "y_test                      ndarray                       50: 50 elems, type `float64`, 400 bytes\n",
      "yapf_reformat               function                      <function yapf_reformat at 0x10aad9598>\n",
      "zeros                       builtin_function_or_method    <built-in function zeros>\n",
      "zeros_like                  function                      <function zeros_like at 0x10af186a8>\n"
     ]
    }
   ],
   "source": [
    "%whos"
   ]
  }
 ],
 "metadata": {
  "kernelspec": {
   "display_name": "Python 3",
   "language": "python",
   "name": "python3"
  },
  "language_info": {
   "codemirror_mode": {
    "name": "ipython",
    "version": 3
   },
   "file_extension": ".py",
   "mimetype": "text/x-python",
   "name": "python",
   "nbconvert_exporter": "python",
   "pygments_lexer": "ipython3",
   "version": "3.6.2"
  },
  "toc": {
   "nav_menu": {},
   "number_sections": false,
   "sideBar": true,
   "skip_h1_title": false,
   "toc_cell": false,
   "toc_position": {},
   "toc_section_display": "block",
   "toc_window_display": false
  }
 },
 "nbformat": 4,
 "nbformat_minor": 2
}
