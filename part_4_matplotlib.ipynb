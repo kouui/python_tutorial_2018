{
 "cells": [
  {
   "cell_type": "markdown",
   "metadata": {},
   "source": [
    "# Matplotlib: Data visualization\n",
    "\n",
    "Matplotlib is probably the most used Python package for 2D-graphics. It provides both a quick way to visualize data from Python and publication-quality figures in many formats. We select matplotlib because it is the default visualization tool in python.\n",
    "\n",
    "for more higher level (hence beatiful) data visualization packages:\n",
    "\n",
    "- Seaborn : [http://seaborn.pydata.org](http://seaborn.pydata.org)\n",
    "- Plotly : [https://plot.ly/](https://plot.ly/)\n",
    "- Bokeh : [http://bokeh.pydata.org/](http://bokeh.pydata.org/)\n",
    "- ggplot : [http://ggplot.yhathq.com/](http://ggplot.yhathq.com/)\n",
    "- ...\n",
    "\n",
    "overview of python visualization tools : [http://pbpython.com/visualization-tools-1.html](http://pbpython.com/visualization-tools-1.html)\n",
    "\n",
    "gallery of matplotlib : [https://matplotlib.org/gallery.html](https://matplotlib.org/gallery.html)"
   ]
  },
  {
   "cell_type": "markdown",
   "metadata": {},
   "source": [
    "## backend\n",
    "\n",
    "about matplotlib backend: [https://matplotlib.org/faq/usage_faq.html#what-is-a-backend](https://matplotlib.org/faq/usage_faq.html#what-is-a-backend)\n",
    "\n",
    "Some people use matplotlib interactively from the python shell and have plotting windows pop up when they type commands. Some people embed matplotlib into graphical user interfaces like wxpython or pygtk to build rich applications. Others use matplotlib in batch scripts to generate postscript images from some numerical simulations, and still others in web application servers to dynamically serve up graphs.\n",
    "\n",
    "with jupyter notebook:\n",
    "- inline : plot in your browser\n",
    "- interactively : plot in GUIs, ex: Tkinter and PyQt5\n",
    "\n",
    "with python/ipython console or executing as a script in terminal:\n",
    "- interactively : plot in GUIs, ex: Tkinter and PyQt5"
   ]
  },
  {
   "cell_type": "markdown",
   "metadata": {},
   "source": [
    "## interactive plot\n",
    "\n",
    "An interactive plot in GUI always means you can zoom, shift, click and add plots whenever you want.\n",
    "<br>\n",
    "<br>\n",
    "<center>**go to ipython shell** ....</center>"
   ]
  },
  {
   "cell_type": "raw",
   "metadata": {},
   "source": [
    "import matplotlib\n",
    "matplotlib.use('TkAgg')\n",
    "import numpy as np\n",
    "import matplotlib.pyplot as plt\n",
    "x = np.linspace(0,2*np.pi, 101)\n",
    "y = np.sin(x)\n",
    "plt.plot(x,y)  \n",
    "# now the plot figure is generated, but not yet shown\n",
    "# to show your figure\n",
    "plt.show()\n",
    "# but this will block your interpretor, to get rid of this block\n",
    "plt.show(block=False)\n",
    "# now you can update your figure as you want, after finishing you adjustment, you need to plot it again\n",
    "plt.plot(x,2*y)\n",
    "plt.show(block=False)"
   ]
  },
  {
   "cell_type": "markdown",
   "metadata": {},
   "source": [
    "if you are using ipython console, and you do not want to type plt.show(block=False) everytime."
   ]
  },
  {
   "cell_type": "raw",
   "metadata": {},
   "source": [
    "%matplotlib tk\n",
    "import numpy as np\n",
    "import matplotlib.pyplot as plt\n",
    "x = np.linspace(0,2*np.pi, 101)\n",
    "y = np.sin(x)\n",
    "plt.plot(x,y)\n",
    "# figure is already plotted. you can update your figure whenever you want.\n",
    "plt.plot(x,2*y)"
   ]
  },
  {
   "cell_type": "markdown",
   "metadata": {},
   "source": [
    "in different environment and OS, interactive plot might have problems. So I will show you the inline mode here since **inline mode always works in jupyter notebook**.\n",
    "\n",
    "## inline plot"
   ]
  },
  {
   "cell_type": "code",
   "execution_count": null,
   "metadata": {},
   "outputs": [],
   "source": [
    "%matplotlib inline\n",
    "#%matplotlib tk               # if you want interactive plot in notebook, try this"
   ]
  },
  {
   "cell_type": "markdown",
   "metadata": {},
   "source": [
    "the first import you need is `matplotlib.pyplot`"
   ]
  },
  {
   "cell_type": "code",
   "execution_count": null,
   "metadata": {},
   "outputs": [],
   "source": [
    "# because this is too long, we take the alias \"plt\"\n",
    "import matplotlib.pyplot as plt\n",
    "import numpy as np"
   ]
  },
  {
   "cell_type": "markdown",
   "metadata": {},
   "source": [
    "### the fastest and simplest plot"
   ]
  },
  {
   "cell_type": "code",
   "execution_count": null,
   "metadata": {},
   "outputs": [],
   "source": [
    "x = np.linspace(0,2*np.pi, 101)\n",
    "S = np.sin(x)\n",
    "C = np.cos(x)\n",
    "\n",
    "plt.plot(x,S)\n",
    "plt.plot(x,C)\n",
    "# get rid of the annoying message by adding \";\" to the end"
   ]
  },
  {
   "cell_type": "code",
   "execution_count": null,
   "metadata": {},
   "outputs": [],
   "source": [
    "# to make you line more beautiful a little bit\n",
    "plt.plot?"
   ]
  },
  {
   "cell_type": "code",
   "execution_count": null,
   "metadata": {},
   "outputs": [],
   "source": [
    "# 'r--': red dash line, 'b-': blue solid line, alpha: transparency\n",
    "plt.plot(x,S, 'r--', linewidth=2.0, alpha=1.0, label='sin curve')\n",
    "plt.plot(x,C, 'b-' , linewidth=0.5, alpha=0.3, label='cos curve')\n",
    "# plot our legend at the best location\n",
    "plt.legend(loc='best');"
   ]
  },
  {
   "cell_type": "markdown",
   "metadata": {},
   "source": [
    "## figure, axes (or subplots)\n",
    "\n",
    "A plot in matplotlib is a cascaded object.\n",
    "\n",
    "1. a the lowest level we have a figure\n",
    "2. in a figure, we can have multiple axes(subplots).\n",
    "3. inside each axes, we have title, xlabel, ylabel,  x-axis, y-axis, scatter-plot, line-plot, ...\n",
    "    - each axis has tick, ticklabel, label, ....\n",
    "    - each plot has x data, y data, format, color, alpha(transparency), linewidth, label, ...\n",
    "    - ...\n",
    "    \n",
    "<img src=\"./images/matplotlib_obj.png\" style=\"height:300px\">\n",
    "\n",
    "for example: \n",
    "\n",
    "<img src=\"./images/plot_intro.jpg\" style=\"width:300px\">"
   ]
  },
  {
   "cell_type": "markdown",
   "metadata": {},
   "source": [
    "### subplots V.S. axes\n",
    "\n",
    "the difference between subplots and axes is that: \n",
    "- subplots are arranged in a regular grid\n",
    "- axes allow placement at any location in the figure.\n",
    "\n",
    "for example, subplots\n",
    "\n",
    "<img src=\"./images/subplot3.png\" style=\"width:300px\">\n",
    "\n",
    "and axes\n",
    "\n",
    "<img src=\"./images/axe3.png\" style=\"width:300px\">"
   ]
  },
  {
   "cell_type": "code",
   "execution_count": null,
   "metadata": {},
   "outputs": [],
   "source": [
    "# Create a figure of size 8x6 inches, with resolution of 80 dots per inch\n",
    "fig = plt.figure(figsize=(10, 3), dpi=80)\n",
    "\n",
    "# Create a new subplot from a grid of 1 row x 2 columns\n",
    "# plt.subplot(nrow, ncol, No_of_your_subplot)\n",
    "ax1 = plt.subplot(1,2,1)\n",
    "ax2 = plt.subplot(1,2,2)"
   ]
  },
  {
   "cell_type": "markdown",
   "metadata": {},
   "source": [
    "and if now I plot something ..."
   ]
  },
  {
   "cell_type": "code",
   "execution_count": null,
   "metadata": {},
   "outputs": [],
   "source": [
    "# Create a figure of size 8x6 inches, with resolution of 80 dots per inch\n",
    "fig = plt.figure(figsize=(10, 3), dpi=80)\n",
    "\n",
    "# Create a new subplot from a grid of 1 row x 2 columns\n",
    "# plt.subplot(nrow, ncol, No_of_your_subplot)\n",
    "ax1 = plt.subplot(1,2,1)\n",
    "ax2 = plt.subplot(1,2,2)\n",
    "plt.plot(x, C);\n",
    "# this curve will appear in the last axe(subplot) you created, \n",
    "# which is called the \"current axe\""
   ]
  },
  {
   "cell_type": "markdown",
   "metadata": {},
   "source": [
    "so if I want to plot in the first figure, I should"
   ]
  },
  {
   "cell_type": "code",
   "execution_count": null,
   "metadata": {},
   "outputs": [],
   "source": [
    "# Create a figure of size 8x6 inches, with resolution of 80 dots per inch\n",
    "fig = plt.figure(figsize=(10, 3), dpi=80)\n",
    "\n",
    "# Create a new subplot from a grid of 1 row x 2 columns\n",
    "# plt.subplot(nrow, ncol, No_of_your_subplot)\n",
    "ax1 = plt.subplot(1,2,1)\n",
    "plt.plot(x, C)    # put your plot function here !\n",
    "\n",
    "ax2 = plt.subplot(1,2,2);"
   ]
  },
  {
   "cell_type": "markdown",
   "metadata": {},
   "source": [
    "furthermore, it is very easy to generalize to the case of **\"plotting in for-loop\"**"
   ]
  },
  {
   "cell_type": "code",
   "execution_count": null,
   "metadata": {},
   "outputs": [],
   "source": [
    "fig = plt.figure(figsize=(10, 3), dpi=80)\n",
    "# create a list to store your sin curve and cos curve\n",
    "curves = [S,C]\n",
    "for i in range(2):\n",
    "    ax = plt.subplot(1,2,i+1)\n",
    "    plt.plot(x, curves[i]);"
   ]
  },
  {
   "cell_type": "markdown",
   "metadata": {},
   "source": [
    "---\n",
    "\n",
    "so from now on I will only plot in a single axe (subplot).\n",
    "\n",
    "## changing color, transparency, line width and line style\n",
    "```\n",
    "plt.plot(x, y, color='red', linewidth=1, linestyle='-', alpha=0.5)\n",
    "```"
   ]
  },
  {
   "cell_type": "code",
   "execution_count": null,
   "metadata": {},
   "outputs": [],
   "source": [
    "fig = plt.figure(figsize=(6, 3), dpi=80)\n",
    "ax = plt.subplot(1,1,1)\n",
    "plt.plot(x, C, color=\"blue\", linewidth=2.5, linestyle=\"-\", alpha=0.7)\n",
    "plt.plot(x, S, color=\"red\", linewidth=2.5, linestyle=\"-\", alpha=0.1);"
   ]
  },
  {
   "cell_type": "markdown",
   "metadata": {},
   "source": [
    "or we can combine `color` and `linestyle` together to a single argument like\n",
    "```\n",
    "plt.plot(x, y, 'r--', linewidth=1)\n",
    "```"
   ]
  },
  {
   "cell_type": "code",
   "execution_count": null,
   "metadata": {},
   "outputs": [],
   "source": [
    "fig = plt.figure(figsize=(6, 3), dpi=80)\n",
    "ax = plt.subplot(1,1,1)\n",
    "plt.plot(x, C, 'b--', linewidth=2.5)\n",
    "plt.plot(x, S, 'r-', linewidth=2.5);"
   ]
  },
  {
   "cell_type": "markdown",
   "metadata": {},
   "source": [
    "if with *marker* ..."
   ]
  },
  {
   "cell_type": "code",
   "execution_count": null,
   "metadata": {},
   "outputs": [],
   "source": [
    "fig = plt.figure(figsize=(6, 3), dpi=80)\n",
    "ax = plt.subplot(1,1,1)\n",
    "plt.plot(x, S, 'r-o', markersize=4, markerfacecolor='y');"
   ]
  },
  {
   "cell_type": "markdown",
   "metadata": {},
   "source": [
    "## limits\n",
    "\n",
    "to set limits of x and y axis, we use\n",
    "```\n",
    "plt.xlim(x_lower, x_upper)\n",
    "plt.ylim(y_lower, y_upper)\n",
    "```"
   ]
  },
  {
   "cell_type": "code",
   "execution_count": null,
   "metadata": {},
   "outputs": [],
   "source": [
    "fig = plt.figure(figsize=(6, 3), dpi=80)\n",
    "ax = plt.subplot(1,1,1)\n",
    "plt.plot(x, C, 'r--', linewidth=2, alpha=1)\n",
    "#\n",
    "plt.xlim(0, 2*np.pi)\n",
    "plt.ylim(-2, 2);"
   ]
  },
  {
   "cell_type": "markdown",
   "metadata": {},
   "source": [
    "## setting ticks\n",
    "\n",
    "to adjust to ticks indicating values, we use\n",
    "```\n",
    "plt.xticks([0, np.pi, 2*np.pi])\n",
    "plt.yticks([-1, 0, 1])\n",
    "```"
   ]
  },
  {
   "cell_type": "code",
   "execution_count": null,
   "metadata": {},
   "outputs": [],
   "source": [
    "fig = plt.figure(figsize=(6, 3), dpi=80)\n",
    "ax = plt.subplot(1,1,1)\n",
    "plt.plot(x, C, 'r--', linewidth=2, alpha=1)\n",
    "plt.xlim(0, 2*np.pi)\n",
    "plt.ylim(-2, 2);\n",
    "#\n",
    "plt.xticks([0, np.pi, 2*np.pi])\n",
    "plt.yticks([-1, 0, 1]);"
   ]
  },
  {
   "cell_type": "markdown",
   "metadata": {},
   "source": [
    "## setting tick labels\n",
    "\n",
    "some of you would be unhappy with the numbers 0.000, 3.142, ...,  then we change how it looks like by adding another argument into `plt.xticks()` and `plt.yticks()` by using the latex format\n",
    "\n",
    "```\n",
    "plt.xticks([0, np.pi, 2*np.pi],[r'$0$', r'$+\\pi$', r'$+2\\pi$'])\n",
    "plt.yticks([-1, 0, 1], [r'$-1$', r'$0$', r'$+1$'])\n",
    "```"
   ]
  },
  {
   "cell_type": "code",
   "execution_count": null,
   "metadata": {},
   "outputs": [],
   "source": [
    "fig = plt.figure(figsize=(6, 3), dpi=80)\n",
    "ax = plt.subplot(1,1,1)\n",
    "plt.plot(x, C, 'r--', linewidth=2, alpha=1)\n",
    "plt.xlim(0, 2*np.pi)\n",
    "plt.ylim(-2, 2);\n",
    "#\n",
    "plt.xticks([0, np.pi, 2*np.pi],[r'$0$', r'$+\\pi$', r'$+2\\pi$'])\n",
    "plt.yticks([-1, 0, 1], [r'$-1$', r'$0$', r'$+1$']);"
   ]
  },
  {
   "cell_type": "markdown",
   "metadata": {},
   "source": [
    "## moving spines\n",
    "\n",
    "for example :\n",
    "```\n",
    "ax.spines['right'].set_color('none')\n",
    "ax.spines['bottom'].set_position(('data',0))\n",
    "```"
   ]
  },
  {
   "cell_type": "code",
   "execution_count": null,
   "metadata": {},
   "outputs": [],
   "source": [
    "fig = plt.figure(figsize=(6, 3), dpi=80)\n",
    "ax = plt.subplot(1,1,1)\n",
    "plt.plot(x, C, 'r--', linewidth=2, alpha=1)\n",
    "plt.xlim(0, 2*np.pi)\n",
    "plt.ylim(-2, 2)\n",
    "plt.xticks([0, np.pi, 2*np.pi],[r'$0$', r'$+\\pi$', r'$+2\\pi$'])\n",
    "plt.yticks([-1, 0, 1], [r'$-1$', r'$0$', r'$+1$'])\n",
    "#\n",
    "ax.spines['right'].set_color('none')    # remove right spine\n",
    "ax.spines['top'].set_color('none')      # remove top spine\n",
    "ax.spines['bottom'].set_position(('data',0))     # move bottom spine to y=0\n",
    "ax.spines['left'].set_position(('data',+np.pi));  # move left spine to x = np.pi"
   ]
  },
  {
   "cell_type": "markdown",
   "metadata": {},
   "source": [
    "## title, xy label and legend\n",
    "\n",
    "```\n",
    "plt.xlabel('X', fontsize=12)\n",
    "plt.ylabel('Sin(X)', fontsize=12, rotation=45)\n",
    "plt.title('This is a title', fontsize=16)\n",
    "plt.legend(loc='best')\n",
    "```"
   ]
  },
  {
   "cell_type": "code",
   "execution_count": null,
   "metadata": {},
   "outputs": [],
   "source": [
    "fig = plt.figure(figsize=(6, 3), dpi=80)\n",
    "ax = plt.subplot(1,1,1)\n",
    "plt.plot(x, C, 'r--', linewidth=2, alpha=1, label='Sin curve')\n",
    "plt.xlim(0, 2*np.pi)\n",
    "plt.ylim(-2, 2)\n",
    "plt.xticks([0, np.pi, 2*np.pi],[r'$0$', r'$+\\pi$', r'$+2\\pi$'])\n",
    "plt.yticks([-1, 0, 1], [r'$-1$', r'$0$', r'$+1$'])\n",
    "#\n",
    "plt.xlabel('X', fontsize=12)\n",
    "plt.ylabel('Sin(X)', fontsize=12, rotation=45)\n",
    "plt.title('This is a title', fontsize=16)\n",
    "plt.legend(loc=(0.5, 0.8));    # this will appear at (0.5*width, 0.8*height)\n",
    "#or you can let python select the best location for you\n",
    "#plt.legend(loc='best')       #'upper right', 'lower left', 'center', ...."
   ]
  },
  {
   "cell_type": "markdown",
   "metadata": {},
   "source": [
    "## save only\n",
    "\n",
    "save the figure without showing it :\n",
    "```\n",
    "plt.savefig('./images/saved_figure.png', dpi=80)\n",
    "```\n",
    "to save the figure\n",
    "```\n",
    "plt.close()\n",
    "```\n",
    "to close the figure before showing it"
   ]
  },
  {
   "cell_type": "code",
   "execution_count": null,
   "metadata": {},
   "outputs": [],
   "source": [
    "fig = plt.figure(figsize=(8, 4), dpi=80)\n",
    "ax = plt.subplot(1,1,1)\n",
    "plt.plot(x, C, 'r--', linewidth=2, alpha=1, label='Sin curve')\n",
    "plt.xlim(0, 2*np.pi)\n",
    "plt.ylim(-2, 2)\n",
    "plt.xticks([0, np.pi, 2*np.pi],[r'$0$', r'$+\\pi$', r'$+2\\pi$'])\n",
    "plt.yticks([-1, 0, 1], [r'$-1$', r'$0$', r'$+1$'])\n",
    "plt.xlabel('X', fontsize=12)\n",
    "plt.ylabel('Sin(X)', fontsize=12, rotation=45)\n",
    "plt.title('This is a title', fontsize=16)\n",
    "plt.legend(loc=(0.5, 0.8))\n",
    "#\n",
    "plt.savefig('./images/saved_figure.png', dpi=100)\n",
    "plt.close()"
   ]
  },
  {
   "cell_type": "markdown",
   "metadata": {},
   "source": [
    "## other plots\n",
    "\n",
    "if any other kinds of plots are needed, all you need to modify is :\n",
    "\n",
    "```\n",
    "fig = plt.figure(figsize=(6, 3), dpi=80)\n",
    "ax = plt.subplot(1,1,1)\n",
    "plt.plot(x, C, 'r--', linewidth=2, alpha=1, label='Sin curve')      <<====\n",
    "plt.xlim(0, 2*np.pi)\n",
    "plt.ylim(-2, 2)\n",
    "plt.xticks([0, np.pi, 2*np.pi],[r'$0$', r'$+\\pi$', r'$+2\\pi$'])\n",
    "plt.yticks([-1, 0, 1], [r'$-1$', r'$0$', r'$+1$'])\n",
    "plt.xlabel('X', fontsize=12)\n",
    "plt.ylabel('Sin(X)', fontsize=12, rotation=45)\n",
    "plt.title('This is a title', fontsize=16)\n",
    "plt.legend(loc=(0.5, 0.8));\n",
    "```"
   ]
  },
  {
   "cell_type": "markdown",
   "metadata": {},
   "source": [
    "scatter plot :"
   ]
  },
  {
   "cell_type": "code",
   "execution_count": null,
   "metadata": {},
   "outputs": [],
   "source": [
    "n = 1024\n",
    "X = np.random.normal(0,1,n)\n",
    "Y = np.random.normal(0,1,n)\n",
    "\n",
    "fig = plt.figure(figsize=(8, 4), dpi=80)\n",
    "ax = plt.subplot(1,1,1)\n",
    "#\n",
    "plt.scatter(X,Y, s=5, c='red', marker='^');\n",
    "# s = 5 : size\n",
    "# marker = '^' : triangle_up marker"
   ]
  },
  {
   "cell_type": "markdown",
   "metadata": {},
   "source": [
    "bar plot :"
   ]
  },
  {
   "cell_type": "code",
   "execution_count": null,
   "metadata": {},
   "outputs": [],
   "source": [
    "n = 12\n",
    "X = np.arange(n)\n",
    "Y1 = (1 - X / float(n)) * np.random.uniform(0.5, 1.0, n)\n",
    "Y2 = (1 - X / float(n)) * np.random.uniform(0.5, 1.0, n)\n",
    "\n",
    "fig = plt.figure(figsize=(8, 4), dpi=80)\n",
    "ax = plt.subplot(1,1,1)\n",
    "#\n",
    "plt.bar(X, +Y1, facecolor='#9999ff', edgecolor='white')\n",
    "plt.bar(X, -Y2, facecolor='#ff9999', edgecolor='white');"
   ]
  },
  {
   "cell_type": "markdown",
   "metadata": {},
   "source": [
    "## 2D plot\n",
    "\n",
    "### meshgrid\n",
    "\n",
    "one way to create 2 dimensional array is to use `numpy.meshgrid(x, y)`."
   ]
  },
  {
   "cell_type": "code",
   "execution_count": null,
   "metadata": {},
   "outputs": [],
   "source": [
    "n = 5\n",
    "x = np.linspace(-3, 3, n)\n",
    "y = np.linspace(-3, 3, n)\n",
    "X, Y = np.meshgrid(x, y)"
   ]
  },
  {
   "cell_type": "code",
   "execution_count": null,
   "metadata": {},
   "outputs": [],
   "source": [
    "# 2 dimensional grid only varies in x axis\n",
    "X"
   ]
  },
  {
   "cell_type": "code",
   "execution_count": null,
   "metadata": {},
   "outputs": [],
   "source": [
    "# 2 dimensional grid only varies in y axis\n",
    "Y"
   ]
  },
  {
   "cell_type": "markdown",
   "metadata": {},
   "source": [
    "then we now have x and y for each point in 2 dimensional grid.\n",
    "\n",
    "## image, 2D-plot\n",
    "\n",
    "show image :\n",
    "```\n",
    "plt.imshow(image_array)\n",
    "```"
   ]
  },
  {
   "cell_type": "code",
   "execution_count": null,
   "metadata": {},
   "outputs": [],
   "source": [
    "def f(x, y):\n",
    "    return (1 - x / 2 + x ** 5 + y ** 3) * np.exp(-x ** 2 - y ** 2)\n",
    "\n",
    "n = 256\n",
    "x = np.linspace(-3, 3, n)\n",
    "y = np.linspace(-3, 3, n)\n",
    "X, Y = np.meshgrid(x, y)\n",
    "\n",
    "fig = plt.figure(figsize=(3,3), dpi=80)\n",
    "ax = plt.subplot(1,1,1)\n",
    "plt.imshow(f(X, Y))\n",
    "#plt.imshow(f(X, Y), origin='lower', cmap='Greys', vmin=-0.4, vmax=0.4)\n",
    "plt.colorbar();"
   ]
  },
  {
   "cell_type": "markdown",
   "metadata": {},
   "source": [
    "color map reference : [https://matplotlib.org/examples/color/colormaps_reference.html](https://matplotlib.org/examples/color/colormaps_reference.html)"
   ]
  },
  {
   "cell_type": "markdown",
   "metadata": {},
   "source": [
    "draw contour :\n",
    "- `plt.contourf(X,Y,Z)` fill contour with color\n",
    "- `plt.contour(X,Y,Z)` draw contour line"
   ]
  },
  {
   "cell_type": "code",
   "execution_count": null,
   "metadata": {},
   "outputs": [],
   "source": [
    "def f(x, y):\n",
    "    return (1 - x / 2 + x ** 5 + y ** 3) * np.exp(-x ** 2 -y ** 2)\n",
    "\n",
    "n = 256\n",
    "x = np.linspace(-3, 3, n)\n",
    "y = np.linspace(-3, 3, n)\n",
    "X, Y = np.meshgrid(x, y)\n",
    "\n",
    "fig = plt.figure(figsize=(5,3), dpi=80)\n",
    "ax = plt.subplot(1,1,1)\n",
    "plt.contourf(X, Y, f(X, Y), 8, alpha=.75, cmap='jet')\n",
    "plt.contour(X, Y, f(X, Y), 8, colors='black');"
   ]
  },
  {
   "cell_type": "markdown",
   "metadata": {},
   "source": [
    "visualize field :\n",
    "- X : The x coordinates of the arrow locations\n",
    "- Y : The y coordinates of the arrow locations\n",
    "- U : The x components of the arrow vectors\n",
    "- V : The y components of the arrow vectors"
   ]
  },
  {
   "cell_type": "code",
   "execution_count": null,
   "metadata": {
    "scrolled": false
   },
   "outputs": [],
   "source": [
    "X, Y = np.meshgrid(np.arange(0, 2 * np.pi, .2), np.arange(0, 2 * np.pi, .2))\n",
    "U = np.cos(X)\n",
    "V = np.sin(Y)\n",
    "\n",
    "\n",
    "fig = plt.figure(figsize=(5,5), dpi=100)\n",
    "ax = plt.subplot(1,1,1)\n",
    "Q = plt.quiver(X[::3, ::3], Y[::3, ::3], U[::3, ::3], V[::3, ::3],\n",
    "               pivot='mid', units='inches');"
   ]
  },
  {
   "cell_type": "markdown",
   "metadata": {},
   "source": [
    "## 3D plot\n",
    "\n",
    "```\n",
    "from mpl_toolkits.mplot3d import Axes3D\n",
    "fig = plt.figure()\n",
    "ax = Axes3D(fig)\n",
    "...\n",
    "ax.plot_surface(X, Y, Z, rstride=1, cstride=1, cmap='jet')\n",
    "```"
   ]
  },
  {
   "cell_type": "code",
   "execution_count": null,
   "metadata": {},
   "outputs": [],
   "source": [
    "# import the 3D axes\n",
    "from mpl_toolkits.mplot3d import Axes3D\n",
    "\n",
    "fig = plt.figure(figsize=(5,3), dpi=100)\n",
    "ax = Axes3D(fig)\n",
    "X = np.arange(-4, 4, 0.25)\n",
    "Y = np.arange(-4, 4, 0.25)\n",
    "X, Y = np.meshgrid(X, Y)\n",
    "R = np.sqrt(X**2 + Y**2)\n",
    "Z = np.sin(R)\n",
    "\n",
    "ax.plot_surface(X, Y, Z, rstride=1, cstride=1, cmap='jet');"
   ]
  },
  {
   "cell_type": "markdown",
   "metadata": {},
   "source": [
    "---\n",
    "\n",
    "there are many ways to create your figure and plots, the one I have showed your above is just one of them."
   ]
  }
 ],
 "metadata": {
  "kernelspec": {
   "display_name": "Python 3",
   "language": "python",
   "name": "python3"
  },
  "language_info": {
   "codemirror_mode": {
    "name": "ipython",
    "version": 3
   },
   "file_extension": ".py",
   "mimetype": "text/x-python",
   "name": "python",
   "nbconvert_exporter": "python",
   "pygments_lexer": "ipython3",
   "version": "3.6.2"
  },
  "toc": {
   "nav_menu": {},
   "number_sections": false,
   "sideBar": true,
   "skip_h1_title": false,
   "toc_cell": false,
   "toc_position": {},
   "toc_section_display": "block",
   "toc_window_display": false
  }
 },
 "nbformat": 4,
 "nbformat_minor": 2
}
