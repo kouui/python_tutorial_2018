{
 "cells": [
  {
   "cell_type": "code",
   "execution_count": 2,
   "metadata": {},
   "outputs": [],
   "source": [
    "import numpy as np"
   ]
  },
  {
   "cell_type": "code",
   "execution_count": 3,
   "metadata": {},
   "outputs": [
    {
     "name": "stdout",
     "output_type": "stream",
     "text": [
      "Search results for 'idl'\n",
      "------------------------\n",
      "scipy.io.readsav\n",
      "    Read an IDL .sav file.\n",
      "scipy.spatial.KDTree\n",
      "    kd-tree for quick nearest-neighbor lookup\n",
      "scipy.spatial.cKDTree\n",
      "    cKDTree(data, leafsize=16, compact_nodes=True, copy_data=False,\n",
      "scipy.special.factorial\n",
      "    The factorial of a number or array of numbers.\n",
      "scipy.special.factorial2\n",
      "    Double factorial.\n",
      "scipy.sparse.linalg.lsqr\n",
      "    Find the least-squares solution to a large, sparse, linear system\n",
      "scipy.linalg.solve_discrete_lyapunov\n",
      "    Solves the discrete Lyapunov equation :math:`AXA^H - X + Q = 0`.\n"
     ]
    }
   ],
   "source": [
    "np.lookfor('IDL', module='scipy')"
   ]
  }
 ],
 "metadata": {
  "kernelspec": {
   "display_name": "Python 3",
   "language": "python",
   "name": "python3"
  },
  "language_info": {
   "codemirror_mode": {
    "name": "ipython",
    "version": 3
   },
   "file_extension": ".py",
   "mimetype": "text/x-python",
   "name": "python",
   "nbconvert_exporter": "python",
   "pygments_lexer": "ipython3",
   "version": "3.6.2"
  },
  "toc": {
   "nav_menu": {},
   "number_sections": true,
   "sideBar": true,
   "skip_h1_title": false,
   "toc_cell": false,
   "toc_position": {},
   "toc_section_display": "block",
   "toc_window_display": false
  }
 },
 "nbformat": 4,
 "nbformat_minor": 2
}
