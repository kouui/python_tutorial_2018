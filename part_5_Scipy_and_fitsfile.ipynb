{
 "cells": [
  {
   "cell_type": "code",
   "execution_count": null,
   "metadata": {},
   "outputs": [],
   "source": [
    "%matplotlib inline\n",
    "import matplotlib.pyplot as plt\n",
    "from matplotlib import style\n",
    "style.use(\"seaborn-deep\")\n",
    "import numpy as np"
   ]
  },
  {
   "cell_type": "markdown",
   "metadata": {},
   "source": [
    "in python, one of the most important technique is \n",
    "\n",
    "> need some kind of function &rarr; google it &rarr; found the module and documentation &rarr; confirmed that it is what you need &rarr; run an example for test &rarr; if no problem, implement it\n",
    "\n",
    "due to the power of the **users all over the world**.\n",
    "\n",
    "## Scipy : high-level scientific computing\n",
    "\n",
    "scipy is the core package for scientific routines in Python; it is meant to operate efficiently on numpy arrays, so that numpy and scipy work hand in hand.\n",
    "\n",
    "Before implementing a routine, it is worth checking if the desired data processing is not already implemented in Scipy. As non-professional programmers, scientists often tend to re-invent the wheel, which leads to **buggy, non-optimal, difficult-to-share and unmaintainable code**. By contrast, Scipy’s routines are optimized and tested, and should therefore be used when possible.\n",
    "\n",
    "with scipy, you can do\n",
    "\n",
    "module | usage |\n",
    "-------|-------|\n",
    "[basic function](https://docs.scipy.org/doc/scipy/reference/tutorial/basic.html) |interacting with numpy (Polynomials, vectorizing functions) |\n",
    "[scipy.special](https://docs.scipy.org/doc/scipy/reference/tutorial/special.html) | Any special mathematical functions |\n",
    "[scipy integrate](https://docs.scipy.org/doc/scipy/reference/tutorial/integrate.html) | integration routines |\n",
    "[scipy.optimize](https://docs.scipy.org/doc/scipy/reference/tutorial/optimize.html) | Optimization |\n",
    "[scipy.interpolate](https://docs.scipy.org/doc/scipy/reference/tutorial/interpolate.html) | interpolation |\n",
    "[scipy.fftpack](https://docs.scipy.org/doc/scipy/reference/tutorial/fftpack.html) | Fourier transform |\n",
    "[scipy.signal](https://docs.scipy.org/doc/scipy/reference/tutorial/signal.html) | signal processing |\n",
    "[scipy.linalg](https://docs.scipy.org/doc/scipy/reference/tutorial/linalg.html) | linear algebra routines |\n",
    "[scipy.sparse](https://docs.scipy.org/doc/scipy/reference/sparse.html#module-scipy.sparse)| sparse matrices |\n",
    "[scipy.spatial](https://docs.scipy.org/doc/scipy/reference/tutorial/spatial.html) | spatial data structures and algorithms |\n",
    "[scipy.stats](https://docs.scipy.org/doc/scipy/reference/tutorial/stats.html) | statistics |\n",
    "[scipy.ndimage](https://docs.scipy.org/doc/scipy/reference/tutorial/ndimage.html) | n-dimensional image package |\n",
    "[scipy.io](https://docs.scipy.org/doc/scipy/reference/tutorial/io.html) | data input and output |\n",
    "[scipy.constants](https://docs.scipy.org/doc/scipy/reference/constants.html) | physical and mathematical constants |\n",
    "[scipy.odr](https://docs.scipy.org/doc/scipy/reference/odr.html#module-scipy.odr) | Orthogonal distance regression |\n",
    "[...](https://docs.scipy.org/doc/scipy/reference/py-modindex.html) | many many else |"
   ]
  },
  {
   "cell_type": "markdown",
   "metadata": {},
   "source": [
    "Ok, let's say if we don't have internet, there are still 2 methods to probe a module. \n",
    "\n",
    "after `import module_name`\n",
    "- help(module_name)\n",
    "- module_name?  &emsp; &emsp; &emsp; <<== only works in jupyer notebook\n",
    "\n",
    "for example, \n",
    "\n",
    "## scipy.constant"
   ]
  },
  {
   "cell_type": "code",
   "execution_count": null,
   "metadata": {},
   "outputs": [],
   "source": [
    "from scipy import constants"
   ]
  },
  {
   "cell_type": "code",
   "execution_count": null,
   "metadata": {},
   "outputs": [],
   "source": [
    "help(constants)"
   ]
  },
  {
   "cell_type": "code",
   "execution_count": null,
   "metadata": {},
   "outputs": [],
   "source": [
    "constants?\n",
    "# I recommend this one, because we can open the page in a new tag"
   ]
  },
  {
   "cell_type": "markdown",
   "metadata": {},
   "source": [
    "but as you see the documentation is much more clear : [https://docs.scipy.org/doc/scipy/reference/constants.html](https://docs.scipy.org/doc/scipy/reference/constants.html)\n",
    "\n",
    "## scipy.io\n",
    "\n",
    "the one you care most may be the **interaction with IDL**.\n",
    "- IDL(.sav) to python (YES)\n",
    "- python (.sav, .npy, .pickle) to IDL (NO) &rarr; maybe .txt, .hdf\n",
    "\n",
    "go to : [https://docs.scipy.org/doc/scipy/reference/tutorial/io.html](https://docs.scipy.org/doc/scipy/reference/tutorial/io.html), you will find\n",
    "\n",
    "\n",
    "`readsav(file_name[, idict, python_dict, ...])` Read an IDL .sav file.\n",
    "\n",
    "I have created a .sav file by\n",
    "```\n",
    "IDL> matrix = [[1,2,3],[4,5,6]]\n",
    "IDL> vector = findgen(6)\n",
    "IDL> matrix\n",
    "       1       2       3\n",
    "       4       5       6\n",
    "IDL> vector\n",
    "       0.0000000       1.0000000       2.0000000       3.0000000       4.0000000\n",
    "       5.0000000\n",
    "IDL> save, matrix, vector, filename='~/cloud_computing/idl_variable.sav'\n",
    "```"
   ]
  },
  {
   "cell_type": "code",
   "execution_count": null,
   "metadata": {},
   "outputs": [],
   "source": [
    "from scipy.io import readsav"
   ]
  },
  {
   "cell_type": "code",
   "execution_count": null,
   "metadata": {},
   "outputs": [],
   "source": [
    "readsav?"
   ]
  },
  {
   "cell_type": "code",
   "execution_count": null,
   "metadata": {},
   "outputs": [],
   "source": [
    "idl_variable = readsav('./idl_variable.sav', python_dict=True, verbose=True)"
   ]
  },
  {
   "cell_type": "code",
   "execution_count": null,
   "metadata": {},
   "outputs": [],
   "source": [
    "idl_variable['matrix']"
   ]
  },
  {
   "cell_type": "code",
   "execution_count": null,
   "metadata": {},
   "outputs": [],
   "source": [
    "idl_variable['vector']"
   ]
  },
  {
   "cell_type": "markdown",
   "metadata": {},
   "source": [
    "## scipy.special\n",
    "\n",
    "scipy.special has nothing special. it just provides you lots of mathematical special functions. from \n",
    "\n",
    "[https://docs.scipy.org/doc/scipy/reference/special.html#module-scipy.special](https://docs.scipy.org/doc/scipy/reference/special.html#module-scipy.special) \n",
    "\n",
    "you will find almost all special functions that meet your needs.\n",
    "\n",
    "for example, voigt functions is the real part of faddeeva function \n",
    "```\n",
    "scipy.special.wofz(x+1j*a)\n",
    "```\n",
    "\n",
    "- x: frequency in Doppler unit\n",
    "- a: damping constant in Doppler unit"
   ]
  },
  {
   "cell_type": "code",
   "execution_count": null,
   "metadata": {},
   "outputs": [],
   "source": [
    "from scipy.special import wofz\n",
    "\n",
    "\n",
    "def voigt(a, x):\n",
    "\n",
    "    return np.real(wofz((x + 1j*a)))\n",
    "\n",
    "x = np.linspace(-3, 3, 101)\n",
    "\n",
    "for a in [0.01, 0.1, 0.5]:\n",
    "    plt.plot(x, voigt(a,x), label='a = {}'.format(a))\n",
    "plt.legend(loc='best')\n",
    "plt.title('voigt function', fontsize=14);"
   ]
  },
  {
   "cell_type": "markdown",
   "metadata": {},
   "source": [
    "another example, when dealing with orbital angular momentum in quantum mechanics, the spherical harmonic function is necessary. then we go to \n",
    "\n",
    "[https://docs.scipy.org/doc/scipy/reference/special.html#module-scipy.special](https://docs.scipy.org/doc/scipy/reference/special.html#module-scipy.special) \n",
    "\n",
    "and look for \"spherical harmonic\".\n",
    "```\n",
    "scipy.special.sph_harm(m, n, theta, phi) \n",
    "```"
   ]
  },
  {
   "cell_type": "code",
   "execution_count": null,
   "metadata": {},
   "outputs": [],
   "source": [
    "from matplotlib import cm, colors\n",
    "from mpl_toolkits.mplot3d import Axes3D\n",
    "from scipy.special import sph_harm\n",
    "\n",
    "# Spherical coordinate with unit radius\n",
    "phi = np.linspace(0, np.pi, 100)\n",
    "theta = np.linspace(0, 2*np.pi, 100)\n",
    "phi, theta = np.meshgrid(phi, theta)\n",
    "# The Cartesian coordinates of the unit sphere\n",
    "x = np.sin(phi) * np.cos(theta)\n",
    "y = np.sin(phi) * np.sin(theta)\n",
    "z = np.cos(phi)\n",
    "\n",
    "# order and level\n",
    "m, l = 2, 3\n",
    "\n",
    "# Calculate the spherical harmonic Y(l,m) and normalize to [0,1]\n",
    "fcolors = sph_harm(m, l, theta, phi).real\n",
    "fmax, fmin = fcolors.max(), fcolors.min()\n",
    "fcolors = (fcolors - fmin)/(fmax - fmin)\n",
    "\n",
    "# Set the aspect ratio to 1 so our sphere looks spherical\n",
    "fig = plt.figure(figsize=plt.figaspect(1.))\n",
    "ax = Axes3D(fig)\n",
    "ax.plot_surface(x, y, z,  rstride=2, cstride=2, facecolors=cm.seismic(fcolors))\n",
    "# Turn off the axis planes\n",
    "ax.set_axis_off();"
   ]
  },
  {
   "cell_type": "markdown",
   "metadata": {},
   "source": [
    "## scipy.integrate\n",
    "\n",
    "if integrating a given function :\n",
    "\n",
    "after checking \n",
    "\n",
    "[https://docs.scipy.org/doc/scipy/reference/tutorial/integrate.html](https://docs.scipy.org/doc/scipy/reference/tutorial/integrate.html)\n",
    "\n",
    "we found that \n",
    "```\n",
    "quad          -- General purpose integration.\n",
    "dblquad       -- General purpose double integration.\n",
    "tplquad       -- General purpose triple integration.\n",
    "```"
   ]
  },
  {
   "cell_type": "code",
   "execution_count": null,
   "metadata": {},
   "outputs": [],
   "source": [
    "from scipy.integrate import dblquad\n",
    "dblquad?"
   ]
  },
  {
   "cell_type": "markdown",
   "metadata": {},
   "source": [
    "`dblquad` :\n",
    "\n",
    "```\n",
    "dblquad(func, a, b, gfun, hfun, args=(), epsabs=1.49e-08, epsrel=1.49e-08)\n",
    "```\n",
    "\n",
    "> Return the double (definite) integral of ``func(y, x)`` from ``x = a..b`` and ``y = gfun(x)..hfun(x)``.\n",
    "\n",
    "so it returns :\n",
    "\n",
    "$$ \\int_a^b \\quad {\\int_{gfun(x)}^{hfun(x)}{func(y,x) dy} \\quad dx} $$"
   ]
  },
  {
   "cell_type": "markdown",
   "metadata": {},
   "source": [
    "for example, if we want to calculate the following integral\n",
    "\n",
    "$$ \\int_0^1 \\quad {\\int_{0}^{x}{3x dy} \\quad dx} = x^3|_{x=1} - x^3|_{x=0} = 1$$"
   ]
  },
  {
   "cell_type": "code",
   "execution_count": null,
   "metadata": {},
   "outputs": [],
   "source": [
    "def func(y, x):\n",
    "    \"integrand\"\n",
    "    return 3*x\n",
    "\n",
    "def gfun(x):\n",
    "    \"lower boundary\"\n",
    "    return 0\n",
    "\n",
    "def hfun(x):\n",
    "    \"upper boundary\"\n",
    "    return x\n",
    "\n",
    "result, error = dblquad(func, 0, 1, gfun, hfun)\n",
    "print(\"result = {}, error = {}\".format(result, error))"
   ]
  },
  {
   "cell_type": "markdown",
   "metadata": {},
   "source": [
    "another example, integrating ordinary differential equations\n",
    "\n",
    "```\n",
    "Interface to numerical integrators of ODE systems.\n",
    "\n",
    "odeint        -- General integration of ordinary differential equations.\n",
    "ode           -- Integrate ODE using VODE and ZVODE routines.\n",
    "```"
   ]
  },
  {
   "cell_type": "code",
   "execution_count": null,
   "metadata": {},
   "outputs": [],
   "source": [
    "from scipy.integrate import odeint"
   ]
  },
  {
   "cell_type": "code",
   "execution_count": null,
   "metadata": {},
   "outputs": [],
   "source": [
    "odeint?"
   ]
  },
  {
   "cell_type": "markdown",
   "metadata": {},
   "source": [
    "that is, in the most trival case \n",
    "\n",
    "```\n",
    "sol = odeint(func, y0, t, args=(,))\n",
    "```\n",
    "where\n",
    "- func : $\\mathbf{f}(\\mathbf{y}, t)$ below\n",
    "- $\\mathbf{y_0}$ : the initial state for vector $\\mathbf{y}$\n",
    "- t : A sequence of time points for which to solve for $\\mathbf{y}$ \n",
    "\n",
    "$$ \\frac{d\\mathbf{y}}{dt} = \\mathbf{f}(\\mathbf{y}, t) $$\n",
    "\n",
    "high order ordinary differential equation can always be reduced to a system of first order equations. for example, \n",
    "\n",
    "> The second order differential equation for the angle \\theta of a pendulum acted on by gravity with friction can be written:\n",
    "\n",
    "> $$\\theta''(t) + b \\theta'(t) + c \\sin{\\theta(t)} = 0$$\n",
    "\n",
    "> by defining angular velocity\n",
    "\n",
    "> $$ \\omega(t) = \\theta'(t) $$\n",
    "\n",
    "> we obtained a system of 1st order ODE\n",
    "\n",
    "> $$ \\theta'(t) = \\omega(t) $$\n",
    "> $$ \\omega'(t) = -b \\omega(t) - c \\sin(\\theta(t)) $$\n",
    "\n",
    "> then, let \n",
    "> $$ \\mathbf{y} = [\\theta, \\omega] $$"
   ]
  },
  {
   "cell_type": "code",
   "execution_count": null,
   "metadata": {},
   "outputs": [],
   "source": [
    "def pend(y, t, b, c):\n",
    "    theta, omega = y\n",
    "    dydt = [omega, -b*omega - c*np.sin(theta)]\n",
    "    return dydt\n",
    "\n",
    "# assume\n",
    "b = 0.25\n",
    "c = 5.0\n",
    "\n",
    "# theta = \\pi-0.1, omega = 0, \n",
    "y0 = [np.pi - 0.1, 0.0]\n",
    "\n",
    "# time steps, from 0 to 10 seconds, 101 grid\n",
    "t = np.linspace(0, 10, 101)\n",
    "\n",
    "# solve ODE\n",
    "sol = odeint(pend, y0, t, args=(b, c))"
   ]
  },
  {
   "cell_type": "code",
   "execution_count": null,
   "metadata": {},
   "outputs": [],
   "source": [
    "sol.shape"
   ]
  },
  {
   "cell_type": "markdown",
   "metadata": {},
   "source": [
    "2 variables, 101 time steps, then we can plot them :"
   ]
  },
  {
   "cell_type": "code",
   "execution_count": null,
   "metadata": {},
   "outputs": [],
   "source": [
    "fig = plt.figure(figsize=(6,3), dpi=100)\n",
    "ax = plt.subplot(1,1,1)\n",
    "plt.plot(t, sol[:, 0], 'b', label='theta(t)')\n",
    "plt.plot(t, sol[:, 1], 'g', label='omega(t)')\n",
    "plt.legend(loc='best')\n",
    "plt.xlabel('t');"
   ]
  },
  {
   "cell_type": "markdown",
   "metadata": {},
   "source": [
    "## scipy.interpolate\n",
    "\n",
    "take 1 dimensional interpolation as an example. go to \n",
    "\n",
    "[https://docs.scipy.org/doc/scipy/reference/tutorial/interpolate.html](https://docs.scipy.org/doc/scipy/reference/tutorial/interpolate.html)\n",
    "\n",
    "you will find that \n",
    "```\n",
    "scipy.interpolate.interp1d(x, y, kind='linear')\n",
    "```\n",
    "meets your needs."
   ]
  },
  {
   "cell_type": "code",
   "execution_count": null,
   "metadata": {},
   "outputs": [],
   "source": [
    "from scipy.interpolate import interp1d\n",
    "interp1d?"
   ]
  },
  {
   "cell_type": "markdown",
   "metadata": {},
   "source": [
    "from the example we found that\n",
    "\n",
    "```\n",
    ">>> import matplotlib.pyplot as plt\n",
    ">>> from scipy import interpolate\n",
    ">>> x = np.arange(0, 10)\n",
    ">>> y = np.exp(-x/3.0)\n",
    ">>> f = interpolate.interp1d(x, y)\n",
    "\n",
    ">>> xnew = np.arange(0, 9, 0.1)\n",
    ">>> ynew = f(xnew)   # use interpolation function returned by `interp1d`\n",
    "\n",
    "```\n",
    "** from old grid *x* and data *y*, we create an object *f* that once we input new grid *xnew* it will return us the interpolated data *ynew* **"
   ]
  },
  {
   "cell_type": "code",
   "execution_count": null,
   "metadata": {},
   "outputs": [],
   "source": [
    "def func(x):\n",
    "    return np.exp(-x/5.0)*np.sin(x)\n",
    "\n",
    "x = np.linspace(0,10,11)\n",
    "x_new = np.linspace(0,10,51)\n",
    "\n",
    "f_linear = interp1d(x, func(x), kind=\"linear\")\n",
    "f_cubic = interp1d(x, func(x), kind=\"cubic\")\n",
    "\n",
    "fig = plt.figure(figsize=(8,4), dpi=100)\n",
    "ax = plt.subplot(1,1,1)\n",
    "#plt.plot(x_new, func(x_new), 'ko', label=\"answer\")\n",
    "#plt.plot(x, y, 'bo', label=\"original\")\n",
    "plt.plot(x_new, f_linear(x_new), 'r-o', label=\"linear\")\n",
    "plt.plot(x_new, f_cubic(x_new), 'b-*', label=\"cubic\")\n",
    "plt.legend(loc='best');"
   ]
  },
  {
   "cell_type": "markdown",
   "metadata": {},
   "source": [
    "you see \n",
    "- how bad \"linear\" interpolation is even without noise (due to the sparse data points). \n",
    "- \"cubic\" almost gives us the correct answer."
   ]
  },
  {
   "cell_type": "markdown",
   "metadata": {},
   "source": [
    "## scipy.optimize\n",
    "\n",
    "as an example, we will fit a Lorentzian profile with the use of `curve_fit`. go to\n",
    "\n",
    "[https://docs.scipy.org/doc/scipy/reference/optimize.html#module-scipy.optimize](https://docs.scipy.org/doc/scipy/reference/optimize.html#module-scipy.optimize)\n",
    "\n",
    "we found \n",
    "```\n",
    "scipy.optimize.curve_fit(f, xdata, ydata, p0=None, sigma=None)\n",
    "```\n",
    "where\n",
    "- f : model function\n",
    "- p0 : initial value of parameters\n",
    "- sigma : uncertainty in ydata"
   ]
  },
  {
   "cell_type": "code",
   "execution_count": null,
   "metadata": {},
   "outputs": [],
   "source": [
    "from scipy.optimize import curve_fit\n",
    "curve_fit?"
   ]
  },
  {
   "cell_type": "markdown",
   "metadata": {},
   "source": [
    "a Lorentzian profile centered at $x_0$ with half-width at half-maximum (HWHM) $\\gamma$ amplitude $A$ is :\n",
    "\n",
    "$$ f(x) = \\frac{A\\gamma^2}{\\gamma^2 + (x-x_0^2)} $$"
   ]
  },
  {
   "cell_type": "markdown",
   "metadata": {},
   "source": [
    "let's create a set of observed data"
   ]
  },
  {
   "cell_type": "code",
   "execution_count": null,
   "metadata": {},
   "outputs": [],
   "source": [
    "x0, A, gamma = 12, 3, 5\n",
    "\n",
    "n = 200\n",
    "x = np.linspace(1, 20, n)\n",
    "yexact = A * gamma**2 / (gamma**2 + (x-x0)**2)\n",
    "\n",
    "# Add some noise with a sigma of 0.5 apart from a particularly noisy region\n",
    "# near x0 where sigma is 3\n",
    "sigma = np.ones(n)*0.5\n",
    "sigma[np.abs(x-x0+1)<1] = 3\n",
    "noise = np.random.randn(n) * sigma\n",
    "y = yexact + noise"
   ]
  },
  {
   "cell_type": "markdown",
   "metadata": {},
   "source": [
    "model function $f$ to fit and root-mean-square $rms$ to measure the fitting error"
   ]
  },
  {
   "cell_type": "code",
   "execution_count": null,
   "metadata": {},
   "outputs": [],
   "source": [
    "def f(x, x0, A, gamma):\n",
    "    \"\"\" The Lorentzian entered at x0 with amplitude A and HWHM gamma. \"\"\"\n",
    "    return A *gamma**2 / (gamma**2 + (x-x0)**2)\n",
    "\n",
    "def rms(y, yfit):\n",
    "    return np.sqrt(np.sum((y-yfit)**2))"
   ]
  },
  {
   "cell_type": "code",
   "execution_count": null,
   "metadata": {},
   "outputs": [],
   "source": [
    "# Unweighted fit\n",
    "p0 = 10, 4, 2\n",
    "popt, pcov = curve_fit(f, x, y, p0)\n",
    "yfit = f(x, *popt)\n",
    "print('Unweighted fit parameters:', popt)\n",
    "print('Covariance matrix:'); print(pcov)\n",
    "print('rms error in fit: {} \\n'.format( rms(yexact, yfit) ))\n",
    "\n",
    "# Weighted fit\n",
    "popt2, pcov2 = curve_fit(f, x, y, p0, sigma=sigma, absolute_sigma=True)\n",
    "yfit2 = f(x, *popt2)\n",
    "print('Weighted fit parameters:', popt2)\n",
    "print('Covariance matrix:'); print(pcov2)\n",
    "print('rms error in fit:', rms(yexact, yfit2))"
   ]
  },
  {
   "cell_type": "markdown",
   "metadata": {},
   "source": [
    "we found that weighted fitting gives us \n",
    "- smaller covariance matrix : less correlated between fitted parameters and smaller uncertainty of the fitted result.\n",
    "- smaller root-mean-square"
   ]
  },
  {
   "cell_type": "code",
   "execution_count": null,
   "metadata": {},
   "outputs": [],
   "source": [
    "plt.plot?"
   ]
  },
  {
   "cell_type": "code",
   "execution_count": null,
   "metadata": {},
   "outputs": [],
   "source": [
    "fig = plt.figure(figsize=(8,5), dpi=80)\n",
    "ax = plt.subplot(1,1,1)\n",
    "plt.plot(x, yexact,'k', label='Exact')\n",
    "plt.plot(x, y, 'o', label='Noisy data', alpha=.5 )\n",
    "plt.plot(x, yfit, 'b', label='Unweighted fit')\n",
    "plt.plot(x, yfit2, 'r', label='Weighted fit')\n",
    "plt.ylim(-1,4)\n",
    "plt.legend(loc='upper left')\n",
    "plt.grid('off');"
   ]
  },
  {
   "cell_type": "markdown",
   "metadata": {},
   "source": [
    "---\n",
    "\n",
    "# manipulating fits file\n",
    "\n",
    "two methods to manipulate fits file in python\n",
    "1. astropy.io.fits : [http://docs.astropy.org/en/stable/io/fits/](http://docs.astropy.org/en/stable/io/fits/)\n",
    "2. sunpy.map.Map : [http://docs.sunpy.org/en/stable/guide/tour.html](http://docs.sunpy.org/en/stable/guide/tour.html)"
   ]
  },
  {
   "cell_type": "code",
   "execution_count": null,
   "metadata": {},
   "outputs": [],
   "source": [
    "from astropy.io import fits"
   ]
  },
  {
   "cell_type": "code",
   "execution_count": null,
   "metadata": {},
   "outputs": [],
   "source": [
    "filename = './aia_lev1_94a_2017_10_08t10_55_11_12z_image_lev1.fits'\n",
    "hdul = fits.open(filename)"
   ]
  },
  {
   "cell_type": "code",
   "execution_count": null,
   "metadata": {},
   "outputs": [],
   "source": [
    "hdul.info()"
   ]
  },
  {
   "cell_type": "markdown",
   "metadata": {},
   "source": [
    "we see that data is stored in `hdul[1]`, but before accessing this aia fits, we need to do someting more."
   ]
  },
  {
   "cell_type": "code",
   "execution_count": null,
   "metadata": {},
   "outputs": [],
   "source": [
    "hdul[1].verify('fix')"
   ]
  },
  {
   "cell_type": "markdown",
   "metadata": {},
   "source": [
    "then we can read the header and the image data"
   ]
  },
  {
   "cell_type": "code",
   "execution_count": null,
   "metadata": {
    "scrolled": false
   },
   "outputs": [],
   "source": [
    "header = hdul[1].header\n",
    "image = hdul[1].data"
   ]
  },
  {
   "cell_type": "code",
   "execution_count": null,
   "metadata": {},
   "outputs": [],
   "source": [
    "header"
   ]
  },
  {
   "cell_type": "code",
   "execution_count": null,
   "metadata": {},
   "outputs": [],
   "source": [
    "image.shape, image.dtype"
   ]
  },
  {
   "cell_type": "code",
   "execution_count": null,
   "metadata": {},
   "outputs": [],
   "source": [
    "fig = plt.figure(dpi=100)\n",
    "plt.imshow(image, vmin=0, vmax=10, cmap=\"gray\", origin=\"lower\");"
   ]
  },
  {
   "cell_type": "markdown",
   "metadata": {},
   "source": [
    "at the end we have to close the fits file"
   ]
  },
  {
   "cell_type": "code",
   "execution_count": null,
   "metadata": {},
   "outputs": [],
   "source": [
    "hdul.close()"
   ]
  },
  {
   "cell_type": "markdown",
   "metadata": {},
   "source": [
    "### create a header-image-only fits file"
   ]
  },
  {
   "cell_type": "code",
   "execution_count": null,
   "metadata": {},
   "outputs": [],
   "source": [
    "# module to manipulate date and time\n",
    "from datetime import datetime\n",
    "# we need the sleep function to simulate one observation exposure\n",
    "from time import sleep"
   ]
  },
  {
   "cell_type": "code",
   "execution_count": null,
   "metadata": {},
   "outputs": [],
   "source": [
    "now = datetime.now()\n",
    "now.strftime(\"%Y-%m-%d %H:%M:%S\")+'.'+str(now.microsecond)"
   ]
  },
  {
   "cell_type": "markdown",
   "metadata": {},
   "source": [
    "let's create 2 images"
   ]
  },
  {
   "cell_type": "code",
   "execution_count": null,
   "metadata": {},
   "outputs": [],
   "source": [
    "image0 = np.zeros((255,255), dtype=np.int16)\n",
    "image1 = np.ones((255,255), dtype=np.int16)"
   ]
  },
  {
   "cell_type": "markdown",
   "metadata": {},
   "source": [
    "and define a function `create_header` which takes the \n",
    "\n",
    "- observer's name\n",
    "- start time of exposure\n",
    "- end time of exposure \n",
    "\n",
    "as an argument to generate header for each image."
   ]
  },
  {
   "cell_type": "code",
   "execution_count": null,
   "metadata": {},
   "outputs": [],
   "source": [
    "def create_header(observer, start, end):\n",
    "\n",
    "    header = fits.Header()\n",
    "    header['observer'] = 'kouui'\n",
    "    header['T_start'] = start.strftime(\"%Y-%m-%d %H:%M:%S\")+'.'+str(start.microsecond)\n",
    "    header['T_end'] = end.strftime(\"%Y-%m-%d %H:%M:%S\")+'.'+str(end.microsecond)\n",
    "    \n",
    "    # return the header object\n",
    "    return header"
   ]
  },
  {
   "cell_type": "code",
   "execution_count": null,
   "metadata": {},
   "outputs": [],
   "source": [
    "#create an empty HDU list\n",
    "hdu_list = fits.HDUList([])\n",
    "\n",
    "# use for-loop to append each image HDU to our HDU list\n",
    "for image in [image0, image1]:\n",
    "    \n",
    "    start = datetime.now()\n",
    "    sleep(1)    # we are observing\n",
    "    end = datetime.now()\n",
    "    \n",
    "    hdu = fits.ImageHDU(image, header=create_header(\"kouui\", start, end))\n",
    "    hdu_list.append(hdu)\n",
    "    \n",
    "hdu_list.writeto('./test_fits.fits')"
   ]
  },
  {
   "cell_type": "markdown",
   "metadata": {},
   "source": [
    "let's try to read \"./test_fits.fits\" we just created"
   ]
  },
  {
   "cell_type": "code",
   "execution_count": null,
   "metadata": {},
   "outputs": [],
   "source": [
    "test_fits = fits.open('./test_fits.fits')"
   ]
  },
  {
   "cell_type": "code",
   "execution_count": null,
   "metadata": {},
   "outputs": [],
   "source": [
    "test_fits.info()"
   ]
  },
  {
   "cell_type": "markdown",
   "metadata": {},
   "source": [
    "the first HDU is automatically converted to PrimaryHDU"
   ]
  },
  {
   "cell_type": "code",
   "execution_count": null,
   "metadata": {},
   "outputs": [],
   "source": [
    "test_fits[0].header"
   ]
  },
  {
   "cell_type": "code",
   "execution_count": null,
   "metadata": {},
   "outputs": [],
   "source": [
    "test_fits[0].data"
   ]
  },
  {
   "cell_type": "code",
   "execution_count": null,
   "metadata": {},
   "outputs": [],
   "source": [
    "test_fits[1].header"
   ]
  },
  {
   "cell_type": "code",
   "execution_count": null,
   "metadata": {},
   "outputs": [],
   "source": [
    "test_fits[1].data"
   ]
  },
  {
   "cell_type": "markdown",
   "metadata": {},
   "source": [
    "that's it for creating fits file\n",
    "\n",
    "---\n",
    "\n"
   ]
  }
 ],
 "metadata": {
  "kernelspec": {
   "display_name": "Python 3",
   "language": "python",
   "name": "python3"
  },
  "language_info": {
   "codemirror_mode": {
    "name": "ipython",
    "version": 3
   },
   "file_extension": ".py",
   "mimetype": "text/x-python",
   "name": "python",
   "nbconvert_exporter": "python",
   "pygments_lexer": "ipython3",
   "version": "3.6.2"
  },
  "toc": {
   "nav_menu": {},
   "number_sections": false,
   "sideBar": true,
   "skip_h1_title": false,
   "toc_cell": false,
   "toc_position": {},
   "toc_section_display": "block",
   "toc_window_display": false
  }
 },
 "nbformat": 4,
 "nbformat_minor": 2
}
